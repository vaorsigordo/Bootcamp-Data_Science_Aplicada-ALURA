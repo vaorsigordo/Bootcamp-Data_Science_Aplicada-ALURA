{
  "nbformat": 4,
  "nbformat_minor": 0,
  "metadata": {
    "colab": {
      "name": "BootcampALURA_Modulo1_Internacoes_SUS.ipynb",
      "provenance": [],
      "collapsed_sections": [
        "ZSaYRN8RlEs4",
        "6AVZN4K8stUc"
      ],
      "toc_visible": true,
      "mount_file_id": "1UQO2gGX0ngpPQDSgRDqMv5urOCXRyyaj",
      "authorship_tag": "ABX9TyP4Z65SesBG8HZvZoTHwfTP",
      "include_colab_link": true
    },
    "kernelspec": {
      "name": "python3",
      "display_name": "Python 3"
    }
  },
  "cells": [
    {
      "cell_type": "markdown",
      "metadata": {
        "id": "view-in-github",
        "colab_type": "text"
      },
      "source": [
        "<a href=\"https://colab.research.google.com/github/vaorsigordo/Bootcamp-Data_Science_Aplicada-ALURA/blob/main/BootcampALURA_Modulo1_Internacoes_SUS.ipynb\" target=\"_parent\"><img src=\"https://colab.research.google.com/assets/colab-badge.svg\" alt=\"Open In Colab\"/></a>"
      ]
    },
    {
      "cell_type": "markdown",
      "metadata": {
        "id": "T9AAOYQCIwun"
      },
      "source": [
        "***\n",
        "***\n",
        "\n",
        "#<font color = #471DCC>**Exploração de Dados do Datasus - Período Jan 2008 - Ago 2020**\n",
        "\n",
        "***\n",
        "***\n",
        "\n",
        "##### <font color = #471DCC>PROCEDIMENTOS HOSPITALARES DO SUS - POR LOCAL DE INTERNAÇÃO - BRASIL\n",
        "\n",
        "***"
      ]
    },
    {
      "cell_type": "markdown",
      "metadata": {
        "id": "swo6vBfYVBlN"
      },
      "source": [
        "---\n",
        "# AULA 1 - Aquisição e leitura de dados reais - PROCESSAMENTO\n",
        "--- "
      ]
    },
    {
      "cell_type": "markdown",
      "metadata": {
        "id": "rt0LhRwJRzgA"
      },
      "source": [
        "### Importanto as Bibliotecas"
      ]
    },
    {
      "cell_type": "code",
      "metadata": {
        "id": "tV56TQlrJSbD"
      },
      "source": [
        "## importanto biblioteca\n",
        "import pandas as pd\n",
        "import matplotlib.pyplot as plt\n",
        "import numpy as np\n",
        "import matplotlib.ticker as ticker"
      ],
      "execution_count": null,
      "outputs": []
    },
    {
      "cell_type": "markdown",
      "metadata": {
        "id": "riVvk_62SGrX"
      },
      "source": [
        "### Importanto os Dados\n"
      ]
    },
    {
      "cell_type": "code",
      "metadata": {
        "id": "Wt2XES4FJhOO",
        "colab": {
          "base_uri": "https://localhost:8080/",
          "height": 355
        },
        "outputId": "f9e83637-aae6-4f34-9f67-0049b490746a"
      },
      "source": [
        "'''        \n",
        "Legenda Dados:      \n",
        "-  Dados númerico igual a 0 não resultante de arredondamento\n",
        "0  Dados númerico igual a 0 resultante de arredondamento de um dado originalmente positivo\n",
        "'''\n",
        "## lendo os dados e criando uma variável dados\n",
        "dados = pd.read_csv(\"/content/drive/My Drive/Colab Notebooks/BootcampDataScience_Alura/Procedimentos_Hospitares_SUS_Processamento.csv\", \n",
        "                    encoding=\"ISO-8859-1\",skiprows = 3, sep = \";\", skipfooter=12,\n",
        "                    thousands=\".\", decimal=\",\")\n",
        "'''\n",
        "pode inserir na_values = '-' na importação:\n",
        "dados = pd.read_csv(\"/content/Procedimentos_Hospitares_SUS_Atendimento.csv\", \n",
        "                    encoding=\"ISO-8859-1\", skiprows = 3, sep = \";\", \n",
        "                    skipfooter=12,thousands=\".\", decimal=\",\", na_values = '-')\n",
        "\n",
        " ele já substitui o \"-\" por NaN dentro do DataFrame\n",
        "'''\n",
        "#para ver as primeiras 5 linhas dos dados\n",
        "dados.head()"
      ],
      "execution_count": null,
      "outputs": [
        {
          "output_type": "stream",
          "text": [
            "/usr/local/lib/python3.6/dist-packages/ipykernel_launcher.py:9: ParserWarning: Falling back to the 'python' engine because the 'c' engine does not support skipfooter; you can avoid this warning by specifying engine='python'.\n",
            "  if __name__ == '__main__':\n"
          ],
          "name": "stderr"
        },
        {
          "output_type": "execute_result",
          "data": {
            "text/html": [
              "<div>\n",
              "<style scoped>\n",
              "    .dataframe tbody tr th:only-of-type {\n",
              "        vertical-align: middle;\n",
              "    }\n",
              "\n",
              "    .dataframe tbody tr th {\n",
              "        vertical-align: top;\n",
              "    }\n",
              "\n",
              "    .dataframe thead th {\n",
              "        text-align: right;\n",
              "    }\n",
              "</style>\n",
              "<table border=\"1\" class=\"dataframe\">\n",
              "  <thead>\n",
              "    <tr style=\"text-align: right;\">\n",
              "      <th></th>\n",
              "      <th>Unidade da Federação</th>\n",
              "      <th>2008/Jan</th>\n",
              "      <th>2008/Fev</th>\n",
              "      <th>2008/Mar</th>\n",
              "      <th>2008/Abr</th>\n",
              "      <th>2008/Mai</th>\n",
              "      <th>2008/Jun</th>\n",
              "      <th>2008/Jul</th>\n",
              "      <th>2008/Ago</th>\n",
              "      <th>2008/Set</th>\n",
              "      <th>2008/Out</th>\n",
              "      <th>2008/Nov</th>\n",
              "      <th>2008/Dez</th>\n",
              "      <th>2009/Jan</th>\n",
              "      <th>2009/Fev</th>\n",
              "      <th>2009/Mar</th>\n",
              "      <th>2009/Abr</th>\n",
              "      <th>2009/Mai</th>\n",
              "      <th>2009/Jun</th>\n",
              "      <th>2009/Jul</th>\n",
              "      <th>2009/Ago</th>\n",
              "      <th>2009/Set</th>\n",
              "      <th>2009/Out</th>\n",
              "      <th>2009/Nov</th>\n",
              "      <th>2009/Dez</th>\n",
              "      <th>2010/Jan</th>\n",
              "      <th>2010/Fev</th>\n",
              "      <th>2010/Mar</th>\n",
              "      <th>2010/Abr</th>\n",
              "      <th>2010/Mai</th>\n",
              "      <th>2010/Jun</th>\n",
              "      <th>2010/Jul</th>\n",
              "      <th>2010/Ago</th>\n",
              "      <th>2010/Set</th>\n",
              "      <th>2010/Out</th>\n",
              "      <th>2010/Nov</th>\n",
              "      <th>2010/Dez</th>\n",
              "      <th>2011/Jan</th>\n",
              "      <th>2011/Fev</th>\n",
              "      <th>2011/Mar</th>\n",
              "      <th>...</th>\n",
              "      <th>2017/Jun</th>\n",
              "      <th>2017/Jul</th>\n",
              "      <th>2017/Ago</th>\n",
              "      <th>2017/Set</th>\n",
              "      <th>2017/Out</th>\n",
              "      <th>2017/Nov</th>\n",
              "      <th>2017/Dez</th>\n",
              "      <th>2018/Jan</th>\n",
              "      <th>2018/Fev</th>\n",
              "      <th>2018/Mar</th>\n",
              "      <th>2018/Abr</th>\n",
              "      <th>2018/Mai</th>\n",
              "      <th>2018/Jun</th>\n",
              "      <th>2018/Jul</th>\n",
              "      <th>2018/Ago</th>\n",
              "      <th>2018/Set</th>\n",
              "      <th>2018/Out</th>\n",
              "      <th>2018/Nov</th>\n",
              "      <th>2018/Dez</th>\n",
              "      <th>2019/Jan</th>\n",
              "      <th>2019/Fev</th>\n",
              "      <th>2019/Mar</th>\n",
              "      <th>2019/Abr</th>\n",
              "      <th>2019/Mai</th>\n",
              "      <th>2019/Jun</th>\n",
              "      <th>2019/Jul</th>\n",
              "      <th>2019/Ago</th>\n",
              "      <th>2019/Set</th>\n",
              "      <th>2019/Out</th>\n",
              "      <th>2019/Nov</th>\n",
              "      <th>2019/Dez</th>\n",
              "      <th>2020/Jan</th>\n",
              "      <th>2020/Fev</th>\n",
              "      <th>2020/Mar</th>\n",
              "      <th>2020/Abr</th>\n",
              "      <th>2020/Mai</th>\n",
              "      <th>2020/Jun</th>\n",
              "      <th>2020/Jul</th>\n",
              "      <th>2020/Ago</th>\n",
              "      <th>Total</th>\n",
              "    </tr>\n",
              "  </thead>\n",
              "  <tbody>\n",
              "    <tr>\n",
              "      <th>0</th>\n",
              "      <td>11 Rondônia</td>\n",
              "      <td>1388528.39</td>\n",
              "      <td>2931283.42</td>\n",
              "      <td>1541682.52</td>\n",
              "      <td>1525314.96</td>\n",
              "      <td>1645953.84</td>\n",
              "      <td>1406150.68</td>\n",
              "      <td>3065279.01</td>\n",
              "      <td>3231494.61</td>\n",
              "      <td>3117178.63</td>\n",
              "      <td>3068430.44</td>\n",
              "      <td>2825838.52</td>\n",
              "      <td>2931173.58</td>\n",
              "      <td>2885269.07</td>\n",
              "      <td>2860103.74</td>\n",
              "      <td>3684944.68</td>\n",
              "      <td>3607289.68</td>\n",
              "      <td>3774356.60</td>\n",
              "      <td>3706711.84</td>\n",
              "      <td>3763187.55</td>\n",
              "      <td>3533625.83</td>\n",
              "      <td>3605007.43</td>\n",
              "      <td>3907032.72</td>\n",
              "      <td>3939820.71</td>\n",
              "      <td>3901084.11</td>\n",
              "      <td>3684407.02</td>\n",
              "      <td>3623015.58</td>\n",
              "      <td>3890461.90</td>\n",
              "      <td>4193533.87</td>\n",
              "      <td>4534400.67</td>\n",
              "      <td>4451208.03</td>\n",
              "      <td>4874592.78</td>\n",
              "      <td>4460802.38</td>\n",
              "      <td>5067886.24</td>\n",
              "      <td>4511092.85</td>\n",
              "      <td>4394680.50</td>\n",
              "      <td>4098741.80</td>\n",
              "      <td>4411499.48</td>\n",
              "      <td>3868617.95</td>\n",
              "      <td>4298702.78</td>\n",
              "      <td>...</td>\n",
              "      <td>7948291.63</td>\n",
              "      <td>8438077.45</td>\n",
              "      <td>7656644.83</td>\n",
              "      <td>8047742.98</td>\n",
              "      <td>8657206.23</td>\n",
              "      <td>8150893.68</td>\n",
              "      <td>7507845.13</td>\n",
              "      <td>7998345.94</td>\n",
              "      <td>8893683.69</td>\n",
              "      <td>8867793.32</td>\n",
              "      <td>8871408.50</td>\n",
              "      <td>8501601.67</td>\n",
              "      <td>8315107.81</td>\n",
              "      <td>8525499.78</td>\n",
              "      <td>9177611.46</td>\n",
              "      <td>7368996.38</td>\n",
              "      <td>8835095.43</td>\n",
              "      <td>8328186.64</td>\n",
              "      <td>8408512.77</td>\n",
              "      <td>9351705.82</td>\n",
              "      <td>8143007.97</td>\n",
              "      <td>8949741.77</td>\n",
              "      <td>9630553.15</td>\n",
              "      <td>9581970.31</td>\n",
              "      <td>7891114.05</td>\n",
              "      <td>9792370.67</td>\n",
              "      <td>9170787.53</td>\n",
              "      <td>8816846.71</td>\n",
              "      <td>10024554.15</td>\n",
              "      <td>9675423.70</td>\n",
              "      <td>8085025.66</td>\n",
              "      <td>9221412.18</td>\n",
              "      <td>7493310.88</td>\n",
              "      <td>8092260.11</td>\n",
              "      <td>7273843.63</td>\n",
              "      <td>7652120.28</td>\n",
              "      <td>8725530.68</td>\n",
              "      <td>11152107.08</td>\n",
              "      <td>10285455.78</td>\n",
              "      <td>9.291297e+08</td>\n",
              "    </tr>\n",
              "    <tr>\n",
              "      <th>1</th>\n",
              "      <td>12 Acre</td>\n",
              "      <td>902416.00</td>\n",
              "      <td>1497206.26</td>\n",
              "      <td>1794028.48</td>\n",
              "      <td>1730469.42</td>\n",
              "      <td>1819443.92</td>\n",
              "      <td>1828496.00</td>\n",
              "      <td>2511754.59</td>\n",
              "      <td>2089107.14</td>\n",
              "      <td>2275708.53</td>\n",
              "      <td>1923886.57</td>\n",
              "      <td>1756986.80</td>\n",
              "      <td>2235639.98</td>\n",
              "      <td>2497116.43</td>\n",
              "      <td>2253558.01</td>\n",
              "      <td>2122673.92</td>\n",
              "      <td>2834317.62</td>\n",
              "      <td>2722065.97</td>\n",
              "      <td>2432831.95</td>\n",
              "      <td>2630190.65</td>\n",
              "      <td>2307579.00</td>\n",
              "      <td>-</td>\n",
              "      <td>2826477.02</td>\n",
              "      <td>2170791.18</td>\n",
              "      <td>2541526.44</td>\n",
              "      <td>2491042.33</td>\n",
              "      <td>1954473.90</td>\n",
              "      <td>2389996.38</td>\n",
              "      <td>2654878.60</td>\n",
              "      <td>2844085.21</td>\n",
              "      <td>2336207.19</td>\n",
              "      <td>2125143.06</td>\n",
              "      <td>2430293.67</td>\n",
              "      <td>2377738.44</td>\n",
              "      <td>2184746.84</td>\n",
              "      <td>2468452.90</td>\n",
              "      <td>2516284.54</td>\n",
              "      <td>3051370.08</td>\n",
              "      <td>2629104.42</td>\n",
              "      <td>2485451.79</td>\n",
              "      <td>...</td>\n",
              "      <td>2397512.85</td>\n",
              "      <td>2348760.00</td>\n",
              "      <td>3139155.41</td>\n",
              "      <td>2765062.92</td>\n",
              "      <td>4540084.78</td>\n",
              "      <td>4120228.96</td>\n",
              "      <td>2610454.55</td>\n",
              "      <td>3576595.19</td>\n",
              "      <td>2444567.37</td>\n",
              "      <td>2602434.35</td>\n",
              "      <td>3064163.42</td>\n",
              "      <td>2276236.69</td>\n",
              "      <td>3239474.10</td>\n",
              "      <td>3126429.88</td>\n",
              "      <td>2998865.51</td>\n",
              "      <td>2619709.86</td>\n",
              "      <td>3018048.94</td>\n",
              "      <td>3342614.24</td>\n",
              "      <td>2123426.26</td>\n",
              "      <td>2664654.52</td>\n",
              "      <td>1906429.95</td>\n",
              "      <td>3096439.63</td>\n",
              "      <td>2411628.00</td>\n",
              "      <td>2840630.58</td>\n",
              "      <td>3260153.59</td>\n",
              "      <td>3250722.84</td>\n",
              "      <td>3204998.88</td>\n",
              "      <td>3052745.65</td>\n",
              "      <td>3124802.29</td>\n",
              "      <td>3021521.75</td>\n",
              "      <td>2874871.28</td>\n",
              "      <td>3331803.55</td>\n",
              "      <td>3417691.07</td>\n",
              "      <td>3076003.20</td>\n",
              "      <td>2286642.60</td>\n",
              "      <td>2896340.24</td>\n",
              "      <td>3045245.80</td>\n",
              "      <td>3915193.20</td>\n",
              "      <td>-</td>\n",
              "      <td>4.206680e+08</td>\n",
              "    </tr>\n",
              "    <tr>\n",
              "      <th>2</th>\n",
              "      <td>13 Amazonas</td>\n",
              "      <td>4735529.42</td>\n",
              "      <td>7118990.57</td>\n",
              "      <td>8196635.49</td>\n",
              "      <td>8259378.42</td>\n",
              "      <td>7831399.90</td>\n",
              "      <td>8477273.62</td>\n",
              "      <td>9368858.72</td>\n",
              "      <td>9352532.70</td>\n",
              "      <td>9363099.35</td>\n",
              "      <td>8618318.83</td>\n",
              "      <td>6555549.08</td>\n",
              "      <td>7777645.88</td>\n",
              "      <td>7403068.36</td>\n",
              "      <td>6683346.89</td>\n",
              "      <td>9927781.20</td>\n",
              "      <td>8844511.21</td>\n",
              "      <td>9079035.96</td>\n",
              "      <td>8832894.53</td>\n",
              "      <td>9373395.97</td>\n",
              "      <td>9578326.03</td>\n",
              "      <td>9730634.16</td>\n",
              "      <td>9179252.65</td>\n",
              "      <td>8314648.93</td>\n",
              "      <td>9050439.39</td>\n",
              "      <td>9419460.86</td>\n",
              "      <td>8680178.57</td>\n",
              "      <td>9168055.41</td>\n",
              "      <td>9897901.80</td>\n",
              "      <td>9651362.37</td>\n",
              "      <td>10854599.47</td>\n",
              "      <td>10417122.89</td>\n",
              "      <td>8718347.13</td>\n",
              "      <td>8221592.12</td>\n",
              "      <td>9613977.03</td>\n",
              "      <td>9927574.41</td>\n",
              "      <td>9470661.21</td>\n",
              "      <td>9736750.91</td>\n",
              "      <td>8745259.80</td>\n",
              "      <td>9380112.36</td>\n",
              "      <td>...</td>\n",
              "      <td>12789637.85</td>\n",
              "      <td>14376990.41</td>\n",
              "      <td>14240071.26</td>\n",
              "      <td>13594647.25</td>\n",
              "      <td>14584288.95</td>\n",
              "      <td>13158724.61</td>\n",
              "      <td>13169660.32</td>\n",
              "      <td>13572263.03</td>\n",
              "      <td>13083081.70</td>\n",
              "      <td>14322305.22</td>\n",
              "      <td>14643340.51</td>\n",
              "      <td>14632208.09</td>\n",
              "      <td>14500521.14</td>\n",
              "      <td>14840533.42</td>\n",
              "      <td>14427620.91</td>\n",
              "      <td>15818964.25</td>\n",
              "      <td>16358462.57</td>\n",
              "      <td>15391163.74</td>\n",
              "      <td>14154362.85</td>\n",
              "      <td>16791397.31</td>\n",
              "      <td>14369987.43</td>\n",
              "      <td>16339024.96</td>\n",
              "      <td>15622910.63</td>\n",
              "      <td>16483166.92</td>\n",
              "      <td>15422243.28</td>\n",
              "      <td>15961988.04</td>\n",
              "      <td>15787896.78</td>\n",
              "      <td>16515441.67</td>\n",
              "      <td>15731201.23</td>\n",
              "      <td>15744605.61</td>\n",
              "      <td>14346553.60</td>\n",
              "      <td>16018459.07</td>\n",
              "      <td>14913745.37</td>\n",
              "      <td>15068304.35</td>\n",
              "      <td>13509579.29</td>\n",
              "      <td>19658585.46</td>\n",
              "      <td>20897542.93</td>\n",
              "      <td>19346450.18</td>\n",
              "      <td>14726443.67</td>\n",
              "      <td>1.771655e+09</td>\n",
              "    </tr>\n",
              "    <tr>\n",
              "      <th>3</th>\n",
              "      <td>14 Roraima</td>\n",
              "      <td>657889.53</td>\n",
              "      <td>777939.31</td>\n",
              "      <td>718688.03</td>\n",
              "      <td>839994.39</td>\n",
              "      <td>862347.96</td>\n",
              "      <td>832440.66</td>\n",
              "      <td>996693.09</td>\n",
              "      <td>894271.18</td>\n",
              "      <td>910424.17</td>\n",
              "      <td>1191770.32</td>\n",
              "      <td>1056218.71</td>\n",
              "      <td>1244339.25</td>\n",
              "      <td>1085679.25</td>\n",
              "      <td>969528.54</td>\n",
              "      <td>1393226.70</td>\n",
              "      <td>1273734.17</td>\n",
              "      <td>1552638.50</td>\n",
              "      <td>1490587.74</td>\n",
              "      <td>1596751.80</td>\n",
              "      <td>1848998.68</td>\n",
              "      <td>1701611.25</td>\n",
              "      <td>1164711.18</td>\n",
              "      <td>1434809.17</td>\n",
              "      <td>1603817.28</td>\n",
              "      <td>1437340.80</td>\n",
              "      <td>1332094.01</td>\n",
              "      <td>1900513.75</td>\n",
              "      <td>1933875.49</td>\n",
              "      <td>1773958.29</td>\n",
              "      <td>1804729.73</td>\n",
              "      <td>1846639.32</td>\n",
              "      <td>1643518.23</td>\n",
              "      <td>1843163.29</td>\n",
              "      <td>1807885.17</td>\n",
              "      <td>1674871.65</td>\n",
              "      <td>1250999.28</td>\n",
              "      <td>1257275.43</td>\n",
              "      <td>1171045.72</td>\n",
              "      <td>1389668.67</td>\n",
              "      <td>...</td>\n",
              "      <td>2755620.24</td>\n",
              "      <td>2878177.60</td>\n",
              "      <td>2921978.36</td>\n",
              "      <td>2794080.79</td>\n",
              "      <td>2512259.50</td>\n",
              "      <td>2508514.18</td>\n",
              "      <td>2635287.45</td>\n",
              "      <td>2914195.21</td>\n",
              "      <td>2881281.13</td>\n",
              "      <td>2740423.51</td>\n",
              "      <td>2695484.62</td>\n",
              "      <td>2613895.43</td>\n",
              "      <td>3020718.84</td>\n",
              "      <td>2860584.22</td>\n",
              "      <td>2740088.01</td>\n",
              "      <td>2689103.41</td>\n",
              "      <td>2985029.23</td>\n",
              "      <td>2771881.20</td>\n",
              "      <td>2938769.32</td>\n",
              "      <td>2527888.58</td>\n",
              "      <td>2587642.41</td>\n",
              "      <td>1923440.17</td>\n",
              "      <td>2422446.17</td>\n",
              "      <td>2495491.03</td>\n",
              "      <td>2851291.67</td>\n",
              "      <td>3137537.40</td>\n",
              "      <td>3788154.80</td>\n",
              "      <td>3217218.61</td>\n",
              "      <td>3113940.14</td>\n",
              "      <td>3157977.67</td>\n",
              "      <td>3097113.21</td>\n",
              "      <td>3059823.80</td>\n",
              "      <td>2912519.98</td>\n",
              "      <td>2937346.43</td>\n",
              "      <td>2868820.96</td>\n",
              "      <td>2752228.26</td>\n",
              "      <td>3401864.29</td>\n",
              "      <td>3015488.30</td>\n",
              "      <td>2826486.18</td>\n",
              "      <td>3.050109e+08</td>\n",
              "    </tr>\n",
              "    <tr>\n",
              "      <th>4</th>\n",
              "      <td>15 Pará</td>\n",
              "      <td>18864744.11</td>\n",
              "      <td>19553758.20</td>\n",
              "      <td>21937342.70</td>\n",
              "      <td>20842829.69</td>\n",
              "      <td>23249952.88</td>\n",
              "      <td>23240687.56</td>\n",
              "      <td>24002223.56</td>\n",
              "      <td>23341218.03</td>\n",
              "      <td>25172261.32</td>\n",
              "      <td>24011712.48</td>\n",
              "      <td>21526303.70</td>\n",
              "      <td>23896804.99</td>\n",
              "      <td>24613320.93</td>\n",
              "      <td>24015940.01</td>\n",
              "      <td>26624310.10</td>\n",
              "      <td>26478979.58</td>\n",
              "      <td>26366401.19</td>\n",
              "      <td>25440701.25</td>\n",
              "      <td>28079331.88</td>\n",
              "      <td>27588522.26</td>\n",
              "      <td>27967969.22</td>\n",
              "      <td>28430631.19</td>\n",
              "      <td>25432419.12</td>\n",
              "      <td>26405862.20</td>\n",
              "      <td>25841889.70</td>\n",
              "      <td>26527192.33</td>\n",
              "      <td>27433129.31</td>\n",
              "      <td>25753868.16</td>\n",
              "      <td>27515463.84</td>\n",
              "      <td>26934203.47</td>\n",
              "      <td>26668195.02</td>\n",
              "      <td>26606749.81</td>\n",
              "      <td>27226660.53</td>\n",
              "      <td>27185706.84</td>\n",
              "      <td>27019994.90</td>\n",
              "      <td>26036033.25</td>\n",
              "      <td>27913374.40</td>\n",
              "      <td>26771060.28</td>\n",
              "      <td>27060396.38</td>\n",
              "      <td>...</td>\n",
              "      <td>32202265.99</td>\n",
              "      <td>32771002.63</td>\n",
              "      <td>32204013.38</td>\n",
              "      <td>34983747.88</td>\n",
              "      <td>34138970.65</td>\n",
              "      <td>33280643.37</td>\n",
              "      <td>34426413.15</td>\n",
              "      <td>31591185.32</td>\n",
              "      <td>31378879.00</td>\n",
              "      <td>32909877.51</td>\n",
              "      <td>35053278.80</td>\n",
              "      <td>33973133.85</td>\n",
              "      <td>35560757.57</td>\n",
              "      <td>33465172.06</td>\n",
              "      <td>35497371.12</td>\n",
              "      <td>34896020.28</td>\n",
              "      <td>37385364.64</td>\n",
              "      <td>34294171.03</td>\n",
              "      <td>34168505.29</td>\n",
              "      <td>33849909.80</td>\n",
              "      <td>32871717.66</td>\n",
              "      <td>33130995.71</td>\n",
              "      <td>36044319.40</td>\n",
              "      <td>35906526.59</td>\n",
              "      <td>35242306.77</td>\n",
              "      <td>29460144.72</td>\n",
              "      <td>31179893.86</td>\n",
              "      <td>34175218.80</td>\n",
              "      <td>36112567.22</td>\n",
              "      <td>36853237.41</td>\n",
              "      <td>35925899.01</td>\n",
              "      <td>34345207.63</td>\n",
              "      <td>37384336.94</td>\n",
              "      <td>35512568.15</td>\n",
              "      <td>28217249.66</td>\n",
              "      <td>32617541.05</td>\n",
              "      <td>41625331.28</td>\n",
              "      <td>38438873.79</td>\n",
              "      <td>39911193.02</td>\n",
              "      <td>4.437116e+09</td>\n",
              "    </tr>\n",
              "  </tbody>\n",
              "</table>\n",
              "<p>5 rows × 154 columns</p>\n",
              "</div>"
            ],
            "text/plain": [
              "  Unidade da Federação     2008/Jan  ...     2020/Ago         Total\n",
              "0          11 Rondônia   1388528.39  ...  10285455.78  9.291297e+08\n",
              "1              12 Acre    902416.00  ...            -  4.206680e+08\n",
              "2          13 Amazonas   4735529.42  ...  14726443.67  1.771655e+09\n",
              "3           14 Roraima    657889.53  ...   2826486.18  3.050109e+08\n",
              "4              15 Pará  18864744.11  ...  39911193.02  4.437116e+09\n",
              "\n",
              "[5 rows x 154 columns]"
            ]
          },
          "metadata": {
            "tags": []
          },
          "execution_count": 2
        }
      ]
    },
    {
      "cell_type": "markdown",
      "metadata": {
        "id": "LCvD1MS4JWW-"
      },
      "source": [
        "## Explorando e Visualizando os Dados"
      ]
    },
    {
      "cell_type": "code",
      "metadata": {
        "id": "ogkN2jHnVvMq",
        "colab": {
          "base_uri": "https://localhost:8080/",
          "height": 259
        },
        "outputId": "5e117fce-7c54-4f17-c12d-a6baed2ceaf0"
      },
      "source": [
        "# Visualizando o dados aleatoriamente\n",
        "dados.sample(3)"
      ],
      "execution_count": null,
      "outputs": [
        {
          "output_type": "execute_result",
          "data": {
            "text/html": [
              "<div>\n",
              "<style scoped>\n",
              "    .dataframe tbody tr th:only-of-type {\n",
              "        vertical-align: middle;\n",
              "    }\n",
              "\n",
              "    .dataframe tbody tr th {\n",
              "        vertical-align: top;\n",
              "    }\n",
              "\n",
              "    .dataframe thead th {\n",
              "        text-align: right;\n",
              "    }\n",
              "</style>\n",
              "<table border=\"1\" class=\"dataframe\">\n",
              "  <thead>\n",
              "    <tr style=\"text-align: right;\">\n",
              "      <th></th>\n",
              "      <th>Unidade da Federação</th>\n",
              "      <th>2008/Jan</th>\n",
              "      <th>2008/Fev</th>\n",
              "      <th>2008/Mar</th>\n",
              "      <th>2008/Abr</th>\n",
              "      <th>2008/Mai</th>\n",
              "      <th>2008/Jun</th>\n",
              "      <th>2008/Jul</th>\n",
              "      <th>2008/Ago</th>\n",
              "      <th>2008/Set</th>\n",
              "      <th>2008/Out</th>\n",
              "      <th>2008/Nov</th>\n",
              "      <th>2008/Dez</th>\n",
              "      <th>2009/Jan</th>\n",
              "      <th>2009/Fev</th>\n",
              "      <th>2009/Mar</th>\n",
              "      <th>2009/Abr</th>\n",
              "      <th>2009/Mai</th>\n",
              "      <th>2009/Jun</th>\n",
              "      <th>2009/Jul</th>\n",
              "      <th>2009/Ago</th>\n",
              "      <th>2009/Set</th>\n",
              "      <th>2009/Out</th>\n",
              "      <th>2009/Nov</th>\n",
              "      <th>2009/Dez</th>\n",
              "      <th>2010/Jan</th>\n",
              "      <th>2010/Fev</th>\n",
              "      <th>2010/Mar</th>\n",
              "      <th>2010/Abr</th>\n",
              "      <th>2010/Mai</th>\n",
              "      <th>2010/Jun</th>\n",
              "      <th>2010/Jul</th>\n",
              "      <th>2010/Ago</th>\n",
              "      <th>2010/Set</th>\n",
              "      <th>2010/Out</th>\n",
              "      <th>2010/Nov</th>\n",
              "      <th>2010/Dez</th>\n",
              "      <th>2011/Jan</th>\n",
              "      <th>2011/Fev</th>\n",
              "      <th>2011/Mar</th>\n",
              "      <th>...</th>\n",
              "      <th>2017/Jun</th>\n",
              "      <th>2017/Jul</th>\n",
              "      <th>2017/Ago</th>\n",
              "      <th>2017/Set</th>\n",
              "      <th>2017/Out</th>\n",
              "      <th>2017/Nov</th>\n",
              "      <th>2017/Dez</th>\n",
              "      <th>2018/Jan</th>\n",
              "      <th>2018/Fev</th>\n",
              "      <th>2018/Mar</th>\n",
              "      <th>2018/Abr</th>\n",
              "      <th>2018/Mai</th>\n",
              "      <th>2018/Jun</th>\n",
              "      <th>2018/Jul</th>\n",
              "      <th>2018/Ago</th>\n",
              "      <th>2018/Set</th>\n",
              "      <th>2018/Out</th>\n",
              "      <th>2018/Nov</th>\n",
              "      <th>2018/Dez</th>\n",
              "      <th>2019/Jan</th>\n",
              "      <th>2019/Fev</th>\n",
              "      <th>2019/Mar</th>\n",
              "      <th>2019/Abr</th>\n",
              "      <th>2019/Mai</th>\n",
              "      <th>2019/Jun</th>\n",
              "      <th>2019/Jul</th>\n",
              "      <th>2019/Ago</th>\n",
              "      <th>2019/Set</th>\n",
              "      <th>2019/Out</th>\n",
              "      <th>2019/Nov</th>\n",
              "      <th>2019/Dez</th>\n",
              "      <th>2020/Jan</th>\n",
              "      <th>2020/Fev</th>\n",
              "      <th>2020/Mar</th>\n",
              "      <th>2020/Abr</th>\n",
              "      <th>2020/Mai</th>\n",
              "      <th>2020/Jun</th>\n",
              "      <th>2020/Jul</th>\n",
              "      <th>2020/Ago</th>\n",
              "      <th>Total</th>\n",
              "    </tr>\n",
              "  </thead>\n",
              "  <tbody>\n",
              "    <tr>\n",
              "      <th>12</th>\n",
              "      <td>26 Pernambuco</td>\n",
              "      <td>14393949.89</td>\n",
              "      <td>24181400.95</td>\n",
              "      <td>29991302.71</td>\n",
              "      <td>34806197.97</td>\n",
              "      <td>32147987.35</td>\n",
              "      <td>32239094.89</td>\n",
              "      <td>32685640.76</td>\n",
              "      <td>35457038.66</td>\n",
              "      <td>33668261.46</td>\n",
              "      <td>30579747.51</td>\n",
              "      <td>31049830.56</td>\n",
              "      <td>36978451.28</td>\n",
              "      <td>31009217.35</td>\n",
              "      <td>32989186.42</td>\n",
              "      <td>35816570.57</td>\n",
              "      <td>35969258.01</td>\n",
              "      <td>38381369.46</td>\n",
              "      <td>37147961.64</td>\n",
              "      <td>37200037.82</td>\n",
              "      <td>37050387.71</td>\n",
              "      <td>37971068.17</td>\n",
              "      <td>39339518.15</td>\n",
              "      <td>38448709.00</td>\n",
              "      <td>36961718.24</td>\n",
              "      <td>35052507.08</td>\n",
              "      <td>32870997.66</td>\n",
              "      <td>36490461.92</td>\n",
              "      <td>39185802.19</td>\n",
              "      <td>39388462.04</td>\n",
              "      <td>38249606.84</td>\n",
              "      <td>36955723.87</td>\n",
              "      <td>40351864.49</td>\n",
              "      <td>37229907.82</td>\n",
              "      <td>40700808.63</td>\n",
              "      <td>41625911.29</td>\n",
              "      <td>39731003.01</td>\n",
              "      <td>38314655.92</td>\n",
              "      <td>38704974.94</td>\n",
              "      <td>38270479.93</td>\n",
              "      <td>...</td>\n",
              "      <td>69573373.69</td>\n",
              "      <td>69762828.96</td>\n",
              "      <td>68099323.25</td>\n",
              "      <td>67999680.35</td>\n",
              "      <td>66978897.02</td>\n",
              "      <td>64734221.71</td>\n",
              "      <td>65819921.92</td>\n",
              "      <td>64529749.62</td>\n",
              "      <td>59258351.04</td>\n",
              "      <td>67792662.95</td>\n",
              "      <td>66491472.88</td>\n",
              "      <td>71014021.26</td>\n",
              "      <td>68679138.11</td>\n",
              "      <td>70741826.35</td>\n",
              "      <td>70554341.99</td>\n",
              "      <td>66806054.81</td>\n",
              "      <td>67067611.96</td>\n",
              "      <td>64375684.10</td>\n",
              "      <td>63347814.94</td>\n",
              "      <td>66767187.21</td>\n",
              "      <td>63012036.07</td>\n",
              "      <td>65485622.52</td>\n",
              "      <td>65026872.36</td>\n",
              "      <td>71675203.64</td>\n",
              "      <td>68052177.03</td>\n",
              "      <td>71002753.56</td>\n",
              "      <td>70105175.96</td>\n",
              "      <td>69751772.00</td>\n",
              "      <td>73231387.37</td>\n",
              "      <td>69912310.76</td>\n",
              "      <td>65707157.96</td>\n",
              "      <td>70148903.54</td>\n",
              "      <td>64813148.37</td>\n",
              "      <td>66199027.74</td>\n",
              "      <td>49206139.44</td>\n",
              "      <td>58837630.45</td>\n",
              "      <td>63987469.53</td>\n",
              "      <td>74192800.58</td>\n",
              "      <td>75704177.72</td>\n",
              "      <td>8.046954e+09</td>\n",
              "    </tr>\n",
              "    <tr>\n",
              "      <th>6</th>\n",
              "      <td>17 Tocantins</td>\n",
              "      <td>3441592.69</td>\n",
              "      <td>4985688.85</td>\n",
              "      <td>6205612.60</td>\n",
              "      <td>4984482.09</td>\n",
              "      <td>5511002.46</td>\n",
              "      <td>4927934.22</td>\n",
              "      <td>5445602.28</td>\n",
              "      <td>5413710.38</td>\n",
              "      <td>5596669.50</td>\n",
              "      <td>4658414.01</td>\n",
              "      <td>5252451.80</td>\n",
              "      <td>5523443.70</td>\n",
              "      <td>5791656.63</td>\n",
              "      <td>5814388.89</td>\n",
              "      <td>6273994.59</td>\n",
              "      <td>6762806.93</td>\n",
              "      <td>6575718.57</td>\n",
              "      <td>6423393.40</td>\n",
              "      <td>6349231.85</td>\n",
              "      <td>6490519.50</td>\n",
              "      <td>6542918.14</td>\n",
              "      <td>6420058.63</td>\n",
              "      <td>6149491.80</td>\n",
              "      <td>6075178.19</td>\n",
              "      <td>6411312.84</td>\n",
              "      <td>6403262.51</td>\n",
              "      <td>6698840.55</td>\n",
              "      <td>6905354.41</td>\n",
              "      <td>6864576.47</td>\n",
              "      <td>6876811.94</td>\n",
              "      <td>6732224.34</td>\n",
              "      <td>7110923.00</td>\n",
              "      <td>6644145.62</td>\n",
              "      <td>6861920.56</td>\n",
              "      <td>6553013.61</td>\n",
              "      <td>6450647.82</td>\n",
              "      <td>6695049.17</td>\n",
              "      <td>6735950.07</td>\n",
              "      <td>7285116.46</td>\n",
              "      <td>...</td>\n",
              "      <td>6392708.38</td>\n",
              "      <td>5837072.54</td>\n",
              "      <td>6608301.60</td>\n",
              "      <td>6155701.19</td>\n",
              "      <td>5104089.76</td>\n",
              "      <td>5441162.74</td>\n",
              "      <td>5200789.02</td>\n",
              "      <td>5341353.03</td>\n",
              "      <td>5361684.48</td>\n",
              "      <td>5913061.01</td>\n",
              "      <td>4617378.68</td>\n",
              "      <td>4662238.24</td>\n",
              "      <td>5664149.36</td>\n",
              "      <td>5328909.25</td>\n",
              "      <td>5473666.63</td>\n",
              "      <td>5152490.73</td>\n",
              "      <td>5272355.92</td>\n",
              "      <td>4873715.59</td>\n",
              "      <td>5321091.08</td>\n",
              "      <td>5791079.68</td>\n",
              "      <td>5881439.69</td>\n",
              "      <td>6593258.41</td>\n",
              "      <td>6684401.50</td>\n",
              "      <td>7143806.13</td>\n",
              "      <td>6136528.26</td>\n",
              "      <td>7118118.28</td>\n",
              "      <td>7607639.98</td>\n",
              "      <td>8498162.91</td>\n",
              "      <td>7181834.26</td>\n",
              "      <td>6467132.92</td>\n",
              "      <td>7210731.09</td>\n",
              "      <td>8096781.90</td>\n",
              "      <td>7022324.92</td>\n",
              "      <td>7209045.59</td>\n",
              "      <td>6390358.03</td>\n",
              "      <td>6697839.73</td>\n",
              "      <td>7384806.71</td>\n",
              "      <td>9131707.60</td>\n",
              "      <td>8240261.38</td>\n",
              "      <td>9.999986e+08</td>\n",
              "    </tr>\n",
              "    <tr>\n",
              "      <th>2</th>\n",
              "      <td>13 Amazonas</td>\n",
              "      <td>4735529.42</td>\n",
              "      <td>7118990.57</td>\n",
              "      <td>8196635.49</td>\n",
              "      <td>8259378.42</td>\n",
              "      <td>7831399.90</td>\n",
              "      <td>8477273.62</td>\n",
              "      <td>9368858.72</td>\n",
              "      <td>9352532.70</td>\n",
              "      <td>9363099.35</td>\n",
              "      <td>8618318.83</td>\n",
              "      <td>6555549.08</td>\n",
              "      <td>7777645.88</td>\n",
              "      <td>7403068.36</td>\n",
              "      <td>6683346.89</td>\n",
              "      <td>9927781.20</td>\n",
              "      <td>8844511.21</td>\n",
              "      <td>9079035.96</td>\n",
              "      <td>8832894.53</td>\n",
              "      <td>9373395.97</td>\n",
              "      <td>9578326.03</td>\n",
              "      <td>9730634.16</td>\n",
              "      <td>9179252.65</td>\n",
              "      <td>8314648.93</td>\n",
              "      <td>9050439.39</td>\n",
              "      <td>9419460.86</td>\n",
              "      <td>8680178.57</td>\n",
              "      <td>9168055.41</td>\n",
              "      <td>9897901.80</td>\n",
              "      <td>9651362.37</td>\n",
              "      <td>10854599.47</td>\n",
              "      <td>10417122.89</td>\n",
              "      <td>8718347.13</td>\n",
              "      <td>8221592.12</td>\n",
              "      <td>9613977.03</td>\n",
              "      <td>9927574.41</td>\n",
              "      <td>9470661.21</td>\n",
              "      <td>9736750.91</td>\n",
              "      <td>8745259.80</td>\n",
              "      <td>9380112.36</td>\n",
              "      <td>...</td>\n",
              "      <td>12789637.85</td>\n",
              "      <td>14376990.41</td>\n",
              "      <td>14240071.26</td>\n",
              "      <td>13594647.25</td>\n",
              "      <td>14584288.95</td>\n",
              "      <td>13158724.61</td>\n",
              "      <td>13169660.32</td>\n",
              "      <td>13572263.03</td>\n",
              "      <td>13083081.70</td>\n",
              "      <td>14322305.22</td>\n",
              "      <td>14643340.51</td>\n",
              "      <td>14632208.09</td>\n",
              "      <td>14500521.14</td>\n",
              "      <td>14840533.42</td>\n",
              "      <td>14427620.91</td>\n",
              "      <td>15818964.25</td>\n",
              "      <td>16358462.57</td>\n",
              "      <td>15391163.74</td>\n",
              "      <td>14154362.85</td>\n",
              "      <td>16791397.31</td>\n",
              "      <td>14369987.43</td>\n",
              "      <td>16339024.96</td>\n",
              "      <td>15622910.63</td>\n",
              "      <td>16483166.92</td>\n",
              "      <td>15422243.28</td>\n",
              "      <td>15961988.04</td>\n",
              "      <td>15787896.78</td>\n",
              "      <td>16515441.67</td>\n",
              "      <td>15731201.23</td>\n",
              "      <td>15744605.61</td>\n",
              "      <td>14346553.60</td>\n",
              "      <td>16018459.07</td>\n",
              "      <td>14913745.37</td>\n",
              "      <td>15068304.35</td>\n",
              "      <td>13509579.29</td>\n",
              "      <td>19658585.46</td>\n",
              "      <td>20897542.93</td>\n",
              "      <td>19346450.18</td>\n",
              "      <td>14726443.67</td>\n",
              "      <td>1.771655e+09</td>\n",
              "    </tr>\n",
              "  </tbody>\n",
              "</table>\n",
              "<p>3 rows × 154 columns</p>\n",
              "</div>"
            ],
            "text/plain": [
              "   Unidade da Federação     2008/Jan  ...     2020/Ago         Total\n",
              "12        26 Pernambuco  14393949.89  ...  75704177.72  8.046954e+09\n",
              "6          17 Tocantins   3441592.69  ...   8240261.38  9.999986e+08\n",
              "2           13 Amazonas   4735529.42  ...  14726443.67  1.771655e+09\n",
              "\n",
              "[3 rows x 154 columns]"
            ]
          },
          "metadata": {
            "tags": []
          },
          "execution_count": 3
        }
      ]
    },
    {
      "cell_type": "code",
      "metadata": {
        "id": "Eyetv3RMJSqJ",
        "colab": {
          "base_uri": "https://localhost:8080/",
          "height": 389
        },
        "outputId": "742de919-082d-4c88-9a06-8a8094813f21"
      },
      "source": [
        "#para ver as últimas 5 linhas dos dados (DataFrame)\n",
        "dados.tail()"
      ],
      "execution_count": null,
      "outputs": [
        {
          "output_type": "execute_result",
          "data": {
            "text/html": [
              "<div>\n",
              "<style scoped>\n",
              "    .dataframe tbody tr th:only-of-type {\n",
              "        vertical-align: middle;\n",
              "    }\n",
              "\n",
              "    .dataframe tbody tr th {\n",
              "        vertical-align: top;\n",
              "    }\n",
              "\n",
              "    .dataframe thead th {\n",
              "        text-align: right;\n",
              "    }\n",
              "</style>\n",
              "<table border=\"1\" class=\"dataframe\">\n",
              "  <thead>\n",
              "    <tr style=\"text-align: right;\">\n",
              "      <th></th>\n",
              "      <th>Unidade da Federação</th>\n",
              "      <th>2008/Jan</th>\n",
              "      <th>2008/Fev</th>\n",
              "      <th>2008/Mar</th>\n",
              "      <th>2008/Abr</th>\n",
              "      <th>2008/Mai</th>\n",
              "      <th>2008/Jun</th>\n",
              "      <th>2008/Jul</th>\n",
              "      <th>2008/Ago</th>\n",
              "      <th>2008/Set</th>\n",
              "      <th>2008/Out</th>\n",
              "      <th>2008/Nov</th>\n",
              "      <th>2008/Dez</th>\n",
              "      <th>2009/Jan</th>\n",
              "      <th>2009/Fev</th>\n",
              "      <th>2009/Mar</th>\n",
              "      <th>2009/Abr</th>\n",
              "      <th>2009/Mai</th>\n",
              "      <th>2009/Jun</th>\n",
              "      <th>2009/Jul</th>\n",
              "      <th>2009/Ago</th>\n",
              "      <th>2009/Set</th>\n",
              "      <th>2009/Out</th>\n",
              "      <th>2009/Nov</th>\n",
              "      <th>2009/Dez</th>\n",
              "      <th>2010/Jan</th>\n",
              "      <th>2010/Fev</th>\n",
              "      <th>2010/Mar</th>\n",
              "      <th>2010/Abr</th>\n",
              "      <th>2010/Mai</th>\n",
              "      <th>2010/Jun</th>\n",
              "      <th>2010/Jul</th>\n",
              "      <th>2010/Ago</th>\n",
              "      <th>2010/Set</th>\n",
              "      <th>2010/Out</th>\n",
              "      <th>2010/Nov</th>\n",
              "      <th>2010/Dez</th>\n",
              "      <th>2011/Jan</th>\n",
              "      <th>2011/Fev</th>\n",
              "      <th>2011/Mar</th>\n",
              "      <th>...</th>\n",
              "      <th>2017/Jun</th>\n",
              "      <th>2017/Jul</th>\n",
              "      <th>2017/Ago</th>\n",
              "      <th>2017/Set</th>\n",
              "      <th>2017/Out</th>\n",
              "      <th>2017/Nov</th>\n",
              "      <th>2017/Dez</th>\n",
              "      <th>2018/Jan</th>\n",
              "      <th>2018/Fev</th>\n",
              "      <th>2018/Mar</th>\n",
              "      <th>2018/Abr</th>\n",
              "      <th>2018/Mai</th>\n",
              "      <th>2018/Jun</th>\n",
              "      <th>2018/Jul</th>\n",
              "      <th>2018/Ago</th>\n",
              "      <th>2018/Set</th>\n",
              "      <th>2018/Out</th>\n",
              "      <th>2018/Nov</th>\n",
              "      <th>2018/Dez</th>\n",
              "      <th>2019/Jan</th>\n",
              "      <th>2019/Fev</th>\n",
              "      <th>2019/Mar</th>\n",
              "      <th>2019/Abr</th>\n",
              "      <th>2019/Mai</th>\n",
              "      <th>2019/Jun</th>\n",
              "      <th>2019/Jul</th>\n",
              "      <th>2019/Ago</th>\n",
              "      <th>2019/Set</th>\n",
              "      <th>2019/Out</th>\n",
              "      <th>2019/Nov</th>\n",
              "      <th>2019/Dez</th>\n",
              "      <th>2020/Jan</th>\n",
              "      <th>2020/Fev</th>\n",
              "      <th>2020/Mar</th>\n",
              "      <th>2020/Abr</th>\n",
              "      <th>2020/Mai</th>\n",
              "      <th>2020/Jun</th>\n",
              "      <th>2020/Jul</th>\n",
              "      <th>2020/Ago</th>\n",
              "      <th>Total</th>\n",
              "    </tr>\n",
              "  </thead>\n",
              "  <tbody>\n",
              "    <tr>\n",
              "      <th>22</th>\n",
              "      <td>43 Rio Grande do Sul</td>\n",
              "      <td>30931325.46</td>\n",
              "      <td>57363420.01</td>\n",
              "      <td>51547794.07</td>\n",
              "      <td>56673338.49</td>\n",
              "      <td>48397733.07</td>\n",
              "      <td>52413429.62</td>\n",
              "      <td>56636376.98</td>\n",
              "      <td>56113054.70</td>\n",
              "      <td>55356224.30</td>\n",
              "      <td>53637713.13</td>\n",
              "      <td>53699506.08</td>\n",
              "      <td>58730379.58</td>\n",
              "      <td>57629317.06</td>\n",
              "      <td>58779088.02</td>\n",
              "      <td>63366430.89</td>\n",
              "      <td>62200230.97</td>\n",
              "      <td>61683824.68</td>\n",
              "      <td>62495363.90</td>\n",
              "      <td>64614271.83</td>\n",
              "      <td>66457445.34</td>\n",
              "      <td>66425009.36</td>\n",
              "      <td>65782428.73</td>\n",
              "      <td>63714541.87</td>\n",
              "      <td>64488493.88</td>\n",
              "      <td>66304168.50</td>\n",
              "      <td>61527419.52</td>\n",
              "      <td>62490522.38</td>\n",
              "      <td>66814413.40</td>\n",
              "      <td>67900518.35</td>\n",
              "      <td>64799726.75</td>\n",
              "      <td>68518232.07</td>\n",
              "      <td>68731297.03</td>\n",
              "      <td>66174969.16</td>\n",
              "      <td>66891309.48</td>\n",
              "      <td>67456434.73</td>\n",
              "      <td>67096302.52</td>\n",
              "      <td>60754144.32</td>\n",
              "      <td>58884339.85</td>\n",
              "      <td>66205364.40</td>\n",
              "      <td>...</td>\n",
              "      <td>89585823.81</td>\n",
              "      <td>96174533.70</td>\n",
              "      <td>92176170.61</td>\n",
              "      <td>94228360.83</td>\n",
              "      <td>90655015.78</td>\n",
              "      <td>91242720.70</td>\n",
              "      <td>82934746.93</td>\n",
              "      <td>88817066.36</td>\n",
              "      <td>80572288.45</td>\n",
              "      <td>87419899.25</td>\n",
              "      <td>89396935.52</td>\n",
              "      <td>88148251.61</td>\n",
              "      <td>90754504.49</td>\n",
              "      <td>89093690.14</td>\n",
              "      <td>94010888.97</td>\n",
              "      <td>93664724.68</td>\n",
              "      <td>90025945.36</td>\n",
              "      <td>93081292.31</td>\n",
              "      <td>89050712.34</td>\n",
              "      <td>89664703.23</td>\n",
              "      <td>89259306.50</td>\n",
              "      <td>85585754.75</td>\n",
              "      <td>95152786.47</td>\n",
              "      <td>94163838.23</td>\n",
              "      <td>92237333.46</td>\n",
              "      <td>1.022983e+08</td>\n",
              "      <td>1.002601e+08</td>\n",
              "      <td>95917106.56</td>\n",
              "      <td>1.023316e+08</td>\n",
              "      <td>93971904.79</td>\n",
              "      <td>90775418.13</td>\n",
              "      <td>94908336.74</td>\n",
              "      <td>91437940.91</td>\n",
              "      <td>1.028761e+08</td>\n",
              "      <td>83000318.02</td>\n",
              "      <td>82381774.95</td>\n",
              "      <td>86051002.13</td>\n",
              "      <td>1.005310e+08</td>\n",
              "      <td>101374341.51</td>\n",
              "      <td>1.195865e+10</td>\n",
              "    </tr>\n",
              "    <tr>\n",
              "      <th>23</th>\n",
              "      <td>50 Mato Grosso do Sul</td>\n",
              "      <td>5377392.11</td>\n",
              "      <td>7002472.61</td>\n",
              "      <td>8423933.19</td>\n",
              "      <td>8797487.68</td>\n",
              "      <td>9770421.80</td>\n",
              "      <td>10905392.18</td>\n",
              "      <td>10249299.82</td>\n",
              "      <td>9671553.45</td>\n",
              "      <td>10218511.05</td>\n",
              "      <td>9547923.55</td>\n",
              "      <td>9450010.19</td>\n",
              "      <td>8365709.79</td>\n",
              "      <td>10033643.71</td>\n",
              "      <td>10746263.10</td>\n",
              "      <td>10849523.03</td>\n",
              "      <td>10902848.13</td>\n",
              "      <td>11991649.26</td>\n",
              "      <td>12050259.66</td>\n",
              "      <td>12174950.98</td>\n",
              "      <td>11178470.01</td>\n",
              "      <td>11997775.92</td>\n",
              "      <td>11686533.15</td>\n",
              "      <td>10756188.43</td>\n",
              "      <td>10565385.71</td>\n",
              "      <td>12148432.58</td>\n",
              "      <td>11270972.80</td>\n",
              "      <td>11947693.50</td>\n",
              "      <td>11435565.54</td>\n",
              "      <td>12392541.52</td>\n",
              "      <td>12441459.98</td>\n",
              "      <td>12025317.84</td>\n",
              "      <td>12353546.78</td>\n",
              "      <td>12381792.58</td>\n",
              "      <td>12340247.31</td>\n",
              "      <td>12467693.91</td>\n",
              "      <td>12356930.32</td>\n",
              "      <td>11209008.55</td>\n",
              "      <td>9656677.02</td>\n",
              "      <td>13698836.79</td>\n",
              "      <td>...</td>\n",
              "      <td>15676843.15</td>\n",
              "      <td>16956118.78</td>\n",
              "      <td>17043069.32</td>\n",
              "      <td>17477126.81</td>\n",
              "      <td>15488155.75</td>\n",
              "      <td>16596703.72</td>\n",
              "      <td>15353997.67</td>\n",
              "      <td>16320629.25</td>\n",
              "      <td>18448053.83</td>\n",
              "      <td>16620321.36</td>\n",
              "      <td>16682027.02</td>\n",
              "      <td>17555832.83</td>\n",
              "      <td>17357780.20</td>\n",
              "      <td>17090876.79</td>\n",
              "      <td>16468255.95</td>\n",
              "      <td>17395858.50</td>\n",
              "      <td>16259261.13</td>\n",
              "      <td>16390075.24</td>\n",
              "      <td>15350893.92</td>\n",
              "      <td>17108719.02</td>\n",
              "      <td>17713810.57</td>\n",
              "      <td>16882690.96</td>\n",
              "      <td>18253870.27</td>\n",
              "      <td>17778458.45</td>\n",
              "      <td>18387822.48</td>\n",
              "      <td>1.987093e+07</td>\n",
              "      <td>1.891386e+07</td>\n",
              "      <td>19591383.84</td>\n",
              "      <td>1.893544e+07</td>\n",
              "      <td>17230688.81</td>\n",
              "      <td>17895244.76</td>\n",
              "      <td>18115134.64</td>\n",
              "      <td>19542439.88</td>\n",
              "      <td>1.903279e+07</td>\n",
              "      <td>17410262.53</td>\n",
              "      <td>17913161.92</td>\n",
              "      <td>17331445.92</td>\n",
              "      <td>1.875556e+07</td>\n",
              "      <td>19241624.02</td>\n",
              "      <td>2.172158e+09</td>\n",
              "    </tr>\n",
              "    <tr>\n",
              "      <th>24</th>\n",
              "      <td>51 Mato Grosso</td>\n",
              "      <td>4795299.01</td>\n",
              "      <td>8684882.23</td>\n",
              "      <td>7886243.14</td>\n",
              "      <td>8794109.79</td>\n",
              "      <td>9231645.40</td>\n",
              "      <td>10221763.77</td>\n",
              "      <td>9163314.28</td>\n",
              "      <td>9243148.81</td>\n",
              "      <td>9052354.89</td>\n",
              "      <td>9677093.95</td>\n",
              "      <td>7150345.50</td>\n",
              "      <td>10421826.32</td>\n",
              "      <td>9939399.66</td>\n",
              "      <td>9332546.32</td>\n",
              "      <td>11965500.15</td>\n",
              "      <td>11185014.96</td>\n",
              "      <td>12058150.55</td>\n",
              "      <td>11635436.04</td>\n",
              "      <td>11698836.48</td>\n",
              "      <td>11823239.61</td>\n",
              "      <td>10810420.65</td>\n",
              "      <td>12130636.06</td>\n",
              "      <td>11574096.75</td>\n",
              "      <td>10726251.53</td>\n",
              "      <td>12364760.67</td>\n",
              "      <td>11382133.07</td>\n",
              "      <td>11947040.32</td>\n",
              "      <td>12233217.84</td>\n",
              "      <td>12656421.09</td>\n",
              "      <td>11263407.74</td>\n",
              "      <td>12795267.96</td>\n",
              "      <td>12805173.87</td>\n",
              "      <td>12171713.91</td>\n",
              "      <td>11961452.83</td>\n",
              "      <td>11777799.00</td>\n",
              "      <td>11142684.27</td>\n",
              "      <td>11709080.86</td>\n",
              "      <td>11149107.81</td>\n",
              "      <td>12381255.67</td>\n",
              "      <td>...</td>\n",
              "      <td>15509614.84</td>\n",
              "      <td>16372281.19</td>\n",
              "      <td>16231682.70</td>\n",
              "      <td>16044219.39</td>\n",
              "      <td>16146542.89</td>\n",
              "      <td>15487676.02</td>\n",
              "      <td>14770731.99</td>\n",
              "      <td>17253950.09</td>\n",
              "      <td>14789801.16</td>\n",
              "      <td>17498946.87</td>\n",
              "      <td>16279852.74</td>\n",
              "      <td>16103988.77</td>\n",
              "      <td>15883977.51</td>\n",
              "      <td>17163673.03</td>\n",
              "      <td>15569285.17</td>\n",
              "      <td>15630276.46</td>\n",
              "      <td>15838064.68</td>\n",
              "      <td>14815961.13</td>\n",
              "      <td>13853034.99</td>\n",
              "      <td>14229113.36</td>\n",
              "      <td>15288698.79</td>\n",
              "      <td>16045499.92</td>\n",
              "      <td>15890208.95</td>\n",
              "      <td>16092716.67</td>\n",
              "      <td>16699780.69</td>\n",
              "      <td>1.631481e+07</td>\n",
              "      <td>1.676358e+07</td>\n",
              "      <td>15608982.84</td>\n",
              "      <td>1.585564e+07</td>\n",
              "      <td>15811477.04</td>\n",
              "      <td>15029205.51</td>\n",
              "      <td>15249241.20</td>\n",
              "      <td>15046851.63</td>\n",
              "      <td>1.488682e+07</td>\n",
              "      <td>12546999.04</td>\n",
              "      <td>13604225.34</td>\n",
              "      <td>13151005.63</td>\n",
              "      <td>1.637164e+07</td>\n",
              "      <td>17790649.87</td>\n",
              "      <td>2.036924e+09</td>\n",
              "    </tr>\n",
              "    <tr>\n",
              "      <th>25</th>\n",
              "      <td>52 Goiás</td>\n",
              "      <td>15310637.29</td>\n",
              "      <td>22258668.68</td>\n",
              "      <td>21442515.75</td>\n",
              "      <td>20921212.45</td>\n",
              "      <td>21615970.67</td>\n",
              "      <td>18270043.87</td>\n",
              "      <td>20540517.13</td>\n",
              "      <td>20650730.67</td>\n",
              "      <td>20868443.56</td>\n",
              "      <td>20621423.04</td>\n",
              "      <td>17094580.10</td>\n",
              "      <td>21615561.61</td>\n",
              "      <td>20678552.05</td>\n",
              "      <td>23043942.78</td>\n",
              "      <td>23334312.45</td>\n",
              "      <td>23508108.16</td>\n",
              "      <td>23947606.91</td>\n",
              "      <td>24369848.15</td>\n",
              "      <td>24577126.64</td>\n",
              "      <td>24372626.65</td>\n",
              "      <td>25227845.74</td>\n",
              "      <td>24746686.90</td>\n",
              "      <td>24628958.50</td>\n",
              "      <td>25524615.37</td>\n",
              "      <td>23352380.22</td>\n",
              "      <td>23520045.07</td>\n",
              "      <td>25369725.89</td>\n",
              "      <td>24404417.42</td>\n",
              "      <td>24987745.86</td>\n",
              "      <td>24954391.09</td>\n",
              "      <td>25711601.13</td>\n",
              "      <td>27198788.35</td>\n",
              "      <td>26672124.45</td>\n",
              "      <td>24964871.71</td>\n",
              "      <td>25671135.81</td>\n",
              "      <td>25260713.05</td>\n",
              "      <td>25171493.79</td>\n",
              "      <td>26401745.02</td>\n",
              "      <td>29060487.72</td>\n",
              "      <td>...</td>\n",
              "      <td>35061574.61</td>\n",
              "      <td>34374096.65</td>\n",
              "      <td>35314254.06</td>\n",
              "      <td>35452231.80</td>\n",
              "      <td>34270824.00</td>\n",
              "      <td>34456384.52</td>\n",
              "      <td>34331316.98</td>\n",
              "      <td>32756500.63</td>\n",
              "      <td>29752825.71</td>\n",
              "      <td>35353238.97</td>\n",
              "      <td>33126994.54</td>\n",
              "      <td>33321916.56</td>\n",
              "      <td>35536937.30</td>\n",
              "      <td>35009953.87</td>\n",
              "      <td>33899286.36</td>\n",
              "      <td>33936535.21</td>\n",
              "      <td>34482719.13</td>\n",
              "      <td>33695646.06</td>\n",
              "      <td>36347762.27</td>\n",
              "      <td>35162665.51</td>\n",
              "      <td>33658226.73</td>\n",
              "      <td>36733253.84</td>\n",
              "      <td>36260374.54</td>\n",
              "      <td>38159986.89</td>\n",
              "      <td>37236918.46</td>\n",
              "      <td>3.776923e+07</td>\n",
              "      <td>3.797974e+07</td>\n",
              "      <td>37470451.41</td>\n",
              "      <td>3.730836e+07</td>\n",
              "      <td>35709559.20</td>\n",
              "      <td>34873099.14</td>\n",
              "      <td>35775375.69</td>\n",
              "      <td>35005746.36</td>\n",
              "      <td>3.479399e+07</td>\n",
              "      <td>30896577.34</td>\n",
              "      <td>34305180.56</td>\n",
              "      <td>35701473.15</td>\n",
              "      <td>3.940505e+07</td>\n",
              "      <td>43984702.05</td>\n",
              "      <td>4.657350e+09</td>\n",
              "    </tr>\n",
              "    <tr>\n",
              "      <th>26</th>\n",
              "      <td>53 Distrito Federal</td>\n",
              "      <td>4745919.19</td>\n",
              "      <td>7632480.67</td>\n",
              "      <td>9647203.26</td>\n",
              "      <td>11098732.99</td>\n",
              "      <td>12891719.72</td>\n",
              "      <td>12850125.67</td>\n",
              "      <td>12565646.74</td>\n",
              "      <td>13710857.89</td>\n",
              "      <td>13165106.20</td>\n",
              "      <td>15048607.23</td>\n",
              "      <td>11343166.62</td>\n",
              "      <td>14727561.06</td>\n",
              "      <td>12448821.12</td>\n",
              "      <td>10378991.59</td>\n",
              "      <td>13844384.56</td>\n",
              "      <td>13014468.49</td>\n",
              "      <td>15199322.19</td>\n",
              "      <td>15839446.00</td>\n",
              "      <td>14075642.84</td>\n",
              "      <td>15070287.19</td>\n",
              "      <td>14487053.32</td>\n",
              "      <td>14794759.93</td>\n",
              "      <td>13970147.70</td>\n",
              "      <td>12231919.68</td>\n",
              "      <td>14152357.41</td>\n",
              "      <td>12797956.47</td>\n",
              "      <td>14766108.89</td>\n",
              "      <td>14251503.37</td>\n",
              "      <td>13992321.87</td>\n",
              "      <td>13029712.13</td>\n",
              "      <td>13731431.47</td>\n",
              "      <td>14492891.90</td>\n",
              "      <td>13708967.72</td>\n",
              "      <td>13154297.48</td>\n",
              "      <td>14017191.90</td>\n",
              "      <td>13892860.69</td>\n",
              "      <td>13685193.15</td>\n",
              "      <td>12596227.92</td>\n",
              "      <td>13776613.55</td>\n",
              "      <td>...</td>\n",
              "      <td>14832061.10</td>\n",
              "      <td>15143253.69</td>\n",
              "      <td>16830062.39</td>\n",
              "      <td>18437945.84</td>\n",
              "      <td>18041562.15</td>\n",
              "      <td>18203173.03</td>\n",
              "      <td>17028868.46</td>\n",
              "      <td>17127571.95</td>\n",
              "      <td>18222787.66</td>\n",
              "      <td>20340897.78</td>\n",
              "      <td>20522181.19</td>\n",
              "      <td>20343407.23</td>\n",
              "      <td>21542121.59</td>\n",
              "      <td>22301468.16</td>\n",
              "      <td>23318726.05</td>\n",
              "      <td>20307075.79</td>\n",
              "      <td>18600258.14</td>\n",
              "      <td>16518323.98</td>\n",
              "      <td>13970506.60</td>\n",
              "      <td>20192152.35</td>\n",
              "      <td>18496333.16</td>\n",
              "      <td>22191795.70</td>\n",
              "      <td>18562231.92</td>\n",
              "      <td>20360779.48</td>\n",
              "      <td>20187082.38</td>\n",
              "      <td>2.221615e+07</td>\n",
              "      <td>2.330918e+07</td>\n",
              "      <td>17870194.68</td>\n",
              "      <td>1.785960e+07</td>\n",
              "      <td>19851940.18</td>\n",
              "      <td>18769437.77</td>\n",
              "      <td>22341629.09</td>\n",
              "      <td>20643441.06</td>\n",
              "      <td>2.294716e+07</td>\n",
              "      <td>21536505.16</td>\n",
              "      <td>19058243.91</td>\n",
              "      <td>22704335.27</td>\n",
              "      <td>2.526977e+07</td>\n",
              "      <td>26526196.39</td>\n",
              "      <td>2.429933e+09</td>\n",
              "    </tr>\n",
              "  </tbody>\n",
              "</table>\n",
              "<p>5 rows × 154 columns</p>\n",
              "</div>"
            ],
            "text/plain": [
              "     Unidade da Federação     2008/Jan  ...      2020/Ago         Total\n",
              "22   43 Rio Grande do Sul  30931325.46  ...  101374341.51  1.195865e+10\n",
              "23  50 Mato Grosso do Sul   5377392.11  ...   19241624.02  2.172158e+09\n",
              "24         51 Mato Grosso   4795299.01  ...   17790649.87  2.036924e+09\n",
              "25               52 Goiás  15310637.29  ...   43984702.05  4.657350e+09\n",
              "26    53 Distrito Federal   4745919.19  ...   26526196.39  2.429933e+09\n",
              "\n",
              "[5 rows x 154 columns]"
            ]
          },
          "metadata": {
            "tags": []
          },
          "execution_count": 4
        }
      ]
    },
    {
      "cell_type": "code",
      "metadata": {
        "id": "aSvMbnnZJSzL",
        "colab": {
          "base_uri": "https://localhost:8080/"
        },
        "outputId": "bcda4127-5c5e-4b26-b65a-9f0dc26bc934"
      },
      "source": [
        "#tentar tirar a média\n",
        "dados.mean()\n",
        "# Antes de adicionar o separador thousands=\".\", decimal=\",\" não tinha possivel \n",
        "# calcular o mean pois os dados estavam como string e não como números"
      ],
      "execution_count": null,
      "outputs": [
        {
          "output_type": "execute_result",
          "data": {
            "text/plain": [
              "2008/Jan    1.512685e+07\n",
              "2008/Fev    2.271016e+07\n",
              "2008/Mar    2.459419e+07\n",
              "2008/Abr    2.543196e+07\n",
              "2008/Mai    2.651125e+07\n",
              "                ...     \n",
              "2020/Abr    4.101366e+07\n",
              "2020/Mai    4.419363e+07\n",
              "2020/Jun    4.732999e+07\n",
              "2020/Jul    5.449551e+07\n",
              "Total       5.993732e+09\n",
              "Length: 151, dtype: float64"
            ]
          },
          "metadata": {
            "tags": []
          },
          "execution_count": 5
        }
      ]
    },
    {
      "cell_type": "code",
      "metadata": {
        "id": "VQF7INf6QAUt",
        "colab": {
          "base_uri": "https://localhost:8080/"
        },
        "outputId": "35c2ef8d-c6dc-4ecd-fb4e-08dbbb4acdd6"
      },
      "source": [
        "#Antes de adicionar o separador thousands=\".\", decimal=\",\" na importação dos\n",
        "# dados, eles estavam no formato dtypes: object(154)\n",
        "dados.info()"
      ],
      "execution_count": null,
      "outputs": [
        {
          "output_type": "stream",
          "text": [
            "<class 'pandas.core.frame.DataFrame'>\n",
            "RangeIndex: 27 entries, 0 to 26\n",
            "Columns: 154 entries, Unidade da Federação to Total\n",
            "dtypes: float64(151), object(3)\n",
            "memory usage: 32.6+ KB\n"
          ],
          "name": "stdout"
        }
      ]
    },
    {
      "cell_type": "code",
      "metadata": {
        "id": "RXdmw3e4RtLD"
      },
      "source": [
        "#vamos mudar a forma de impressão - notação científica \n",
        "#para ele formatar ponto flutuante usar duas casas decimais \n",
        "pd.options.display.float_format = \"{:.2f}\".format"
      ],
      "execution_count": null,
      "outputs": []
    },
    {
      "cell_type": "code",
      "metadata": {
        "id": "RecaAEvQTroA",
        "colab": {
          "base_uri": "https://localhost:8080/"
        },
        "outputId": "c50de4c2-3133-4a4d-8783-f87eeb81acff"
      },
      "source": [
        "dados.mean()"
      ],
      "execution_count": null,
      "outputs": [
        {
          "output_type": "execute_result",
          "data": {
            "text/plain": [
              "2008/Jan     15126846.64\n",
              "2008/Fev     22710158.12\n",
              "2008/Mar     24594187.35\n",
              "2008/Abr     25431957.83\n",
              "2008/Mai     26511245.91\n",
              "                ...     \n",
              "2020/Abr     41013660.39\n",
              "2020/Mai     44193633.75\n",
              "2020/Jun     47329994.46\n",
              "2020/Jul     54495511.57\n",
              "Total      5993731798.30\n",
              "Length: 151, dtype: float64"
            ]
          },
          "metadata": {
            "tags": []
          },
          "execution_count": 8
        }
      ]
    },
    {
      "cell_type": "code",
      "metadata": {
        "id": "qjf7CLFdJaAm",
        "colab": {
          "base_uri": "https://localhost:8080/"
        },
        "outputId": "10b59f12-51b2-4320-8c7c-473640cc45b9"
      },
      "source": [
        "# Tamanho do dataset\n",
        "dados.shape\n",
        "print('O DataFrame possui {} linhas e {} colunas'.format(dados.shape[0], \n",
        "                                                         dados.shape[1]))"
      ],
      "execution_count": null,
      "outputs": [
        {
          "output_type": "stream",
          "text": [
            "O DataFrame possui 27 linhas e 154 colunas\n"
          ],
          "name": "stdout"
        }
      ]
    },
    {
      "cell_type": "code",
      "metadata": {
        "id": "Xh8hOOSmJaLT",
        "colab": {
          "base_uri": "https://localhost:8080/"
        },
        "outputId": "abb91078-52fd-4d8d-e5b4-80e79ec32f2a"
      },
      "source": [
        "#acessando um único mês de um ano específico, acessando uma coluna\n",
        "dados[\"2008/Ago\"]\n",
        "#este comando acessando uma coluna do DataFrame resulta em uma série\n",
        "#cada índice é o estado"
      ],
      "execution_count": null,
      "outputs": [
        {
          "output_type": "execute_result",
          "data": {
            "text/plain": [
              "0      3231494.61\n",
              "1      2089107.14\n",
              "2      9352532.70\n",
              "3       894271.18\n",
              "4     23341218.03\n",
              "5      1475551.38\n",
              "6      5413710.38\n",
              "7     15195312.89\n",
              "8     10549176.40\n",
              "9     27851438.72\n",
              "10    10640817.47\n",
              "11    12872578.37\n",
              "12    35457038.66\n",
              "13     9373432.00\n",
              "14     5238398.50\n",
              "15    46931248.28\n",
              "16    84722528.10\n",
              "17    12588595.77\n",
              "18    50912706.60\n",
              "19   184854516.35\n",
              "20    56982774.90\n",
              "21    31250854.33\n",
              "22    56113054.70\n",
              "23     9671553.45\n",
              "24     9243148.81\n",
              "25    20650730.67\n",
              "26    13710857.89\n",
              "Name: 2008/Ago, dtype: float64"
            ]
          },
          "metadata": {
            "tags": []
          },
          "execution_count": 10
        }
      ]
    },
    {
      "cell_type": "code",
      "metadata": {
        "id": "73n6SJEyXUr1",
        "colab": {
          "base_uri": "https://localhost:8080/"
        },
        "outputId": "94756d2c-634a-4ac5-a6e3-c99c07ada8bd"
      },
      "source": [
        "#é possível acessar a média desta série\n",
        "dados[\"2008/Ago\"].mean()"
      ],
      "execution_count": null,
      "outputs": [
        {
          "output_type": "execute_result",
          "data": {
            "text/plain": [
              "27800320.306666665"
            ]
          },
          "metadata": {
            "tags": []
          },
          "execution_count": 11
        }
      ]
    },
    {
      "cell_type": "markdown",
      "metadata": {
        "id": "syrSPfgFHFTY"
      },
      "source": [
        "## DESAFIO 1\n",
        "\n",
        "####Escolher um título mais descritivo, que passe a mensagem adequada ao gráfico de barras."
      ]
    },
    {
      "cell_type": "code",
      "metadata": {
        "id": "p5ob7JkmXvEX",
        "colab": {
          "base_uri": "https://localhost:8080/",
          "height": 80
        },
        "outputId": "4f297d46-f94a-4732-af0f-5b0072e729cc"
      },
      "source": [
        "ago_2008 = dados[[\"Unidade da Federação\", \"2008/Ago\"]].sort_values(\"2008/Ago\")\n",
        "ago_2008.head(1)"
      ],
      "execution_count": null,
      "outputs": [
        {
          "output_type": "execute_result",
          "data": {
            "text/html": [
              "<div>\n",
              "<style scoped>\n",
              "    .dataframe tbody tr th:only-of-type {\n",
              "        vertical-align: middle;\n",
              "    }\n",
              "\n",
              "    .dataframe tbody tr th {\n",
              "        vertical-align: top;\n",
              "    }\n",
              "\n",
              "    .dataframe thead th {\n",
              "        text-align: right;\n",
              "    }\n",
              "</style>\n",
              "<table border=\"1\" class=\"dataframe\">\n",
              "  <thead>\n",
              "    <tr style=\"text-align: right;\">\n",
              "      <th></th>\n",
              "      <th>Unidade da Federação</th>\n",
              "      <th>2008/Ago</th>\n",
              "    </tr>\n",
              "  </thead>\n",
              "  <tbody>\n",
              "    <tr>\n",
              "      <th>3</th>\n",
              "      <td>14 Roraima</td>\n",
              "      <td>894271.18</td>\n",
              "    </tr>\n",
              "  </tbody>\n",
              "</table>\n",
              "</div>"
            ],
            "text/plain": [
              "  Unidade da Federação  2008/Ago\n",
              "3           14 Roraima 894271.18"
            ]
          },
          "metadata": {
            "tags": []
          },
          "execution_count": 12
        }
      ]
    },
    {
      "cell_type": "code",
      "metadata": {
        "id": "B54DNENWCv9q",
        "colab": {
          "base_uri": "https://localhost:8080/",
          "height": 559
        },
        "outputId": "744cc43f-41c8-4116-dda0-666937cb5d64"
      },
      "source": [
        "##DESAFIO 1\n",
        "ago_2008 = dados[[\"Unidade da Federação\", \"2008/Ago\"]].sort_values(\"2008/Ago\")\n",
        "\n",
        "####################### plotar o gráfico de 2008/Ago ###########################\n",
        "ax = ago_2008.plot(x=\"Unidade da Federação\", y=\"2008/Ago\", kind=\"bar\", \n",
        "                figsize=(8,6), width=0.9, color = \"b\")\n",
        "\n",
        "########################### Estética do gráfico ################################\n",
        "\n",
        "ax.yaxis.set_major_formatter(ticker.StrMethodFormatter(\"{x:,.2f}\"))\n",
        "\n",
        "plt.legend(loc = \"upper left\", borderaxespad=0.5) #posiciona a legenda\n",
        "plt.title(\"Valor com Internações por Unidade da Federação \\n Dados SUS- Ago/2008\", \n",
        "          fontsize = 16, fontweight = \"bold\") # adiciona título\n",
        "ax.set_xlabel(\"Unidade da Federação\",fontsize = 14, fontweight = \"bold\") #nomeia x\n",
        "ax.set_ylabel(\"Valor (R$)\",fontsize = 14, fontweight = \"bold\") #nomeia y\n",
        "\n",
        "ax.tick_params(axis=\"x\", labelsize=12) #modifica o tamanho do tick em x\n",
        "ax.tick_params(axis=\"y\", labelsize=12) #modifica o tamanho do tick em y\n",
        "\n",
        "ax.xaxis.grid(True, color='b', alpha=0.5, linestyle='dashed', linewidth=0.5) #grid em x\n",
        "ax.yaxis.grid(True, color='b', alpha=0.5, linestyle='dashed', linewidth=0.5) #grid em y\n",
        "\n",
        "plt.show()"
      ],
      "execution_count": null,
      "outputs": [
        {
          "output_type": "display_data",
          "data": {
            "image/png": "[encoded data removed]",
            "text/plain": [
              "<Figure size 576x432 with 1 Axes>"
            ]
          },
          "metadata": {
            "tags": [],
            "needs_background": "light"
          }
        }
      ]
    },
    {
      "cell_type": "markdown",
      "metadata": {
        "id": "PEiEEEnGHAW-"
      },
      "source": [
        "## DESAFIO 2 - eliminando o missing value\n",
        "\n",
        "#### Faça a mesma análise realizada em aula, porém para o mês mais recente."
      ]
    },
    {
      "cell_type": "code",
      "metadata": {
        "id": "bQE9dY8AZMFn",
        "colab": {
          "base_uri": "https://localhost:8080/",
          "height": 375
        },
        "outputId": "7c841139-8601-4874-c0c1-b7747a25428b"
      },
      "source": [
        "##DESAFIO 2 \n",
        "## Primeira tentativa tive erro e observei ser devido a valor faltante \"-\"\"\n",
        "ax = dados.plot(x=\"Unidade da Federação\", y=\"2020/Ago\", kind=\"bar\", figsize=(8,6))\n",
        "ax.yaxis.set_major_formatter(ticker.StrMethodFormatter(\"{x:,.2f}\"))\n",
        "plt.title(\"Gastos Internações por Estados\")\n",
        "plt.show()"
      ],
      "execution_count": null,
      "outputs": [
        {
          "output_type": "error",
          "ename": "TypeError",
          "evalue": "ignored",
          "traceback": [
            "\u001b[0;31m---------------------------------------------------------------------------\u001b[0m",
            "\u001b[0;31mTypeError\u001b[0m                                 Traceback (most recent call last)",
            "\u001b[0;32m<ipython-input-14-e492e888b39a>\u001b[0m in \u001b[0;36m<module>\u001b[0;34m()\u001b[0m\n\u001b[1;32m      1\u001b[0m \u001b[0;31m##DESAFIO 2\u001b[0m\u001b[0;34m\u001b[0m\u001b[0;34m\u001b[0m\u001b[0;34m\u001b[0m\u001b[0m\n\u001b[1;32m      2\u001b[0m \u001b[0;31m## Primeira tentativa tive erro e observei ser devido a valor faltante \"-\"\"\u001b[0m\u001b[0;34m\u001b[0m\u001b[0;34m\u001b[0m\u001b[0;34m\u001b[0m\u001b[0m\n\u001b[0;32m----> 3\u001b[0;31m \u001b[0max\u001b[0m \u001b[0;34m=\u001b[0m \u001b[0mdados\u001b[0m\u001b[0;34m.\u001b[0m\u001b[0mplot\u001b[0m\u001b[0;34m(\u001b[0m\u001b[0mx\u001b[0m\u001b[0;34m=\u001b[0m\u001b[0;34m\"Unidade da Federação\"\u001b[0m\u001b[0;34m,\u001b[0m \u001b[0my\u001b[0m\u001b[0;34m=\u001b[0m\u001b[0;34m\"2020/Ago\"\u001b[0m\u001b[0;34m,\u001b[0m \u001b[0mkind\u001b[0m\u001b[0;34m=\u001b[0m\u001b[0;34m\"bar\"\u001b[0m\u001b[0;34m,\u001b[0m \u001b[0mfigsize\u001b[0m\u001b[0;34m=\u001b[0m\u001b[0;34m(\u001b[0m\u001b[0;36m8\u001b[0m\u001b[0;34m,\u001b[0m\u001b[0;36m6\u001b[0m\u001b[0;34m)\u001b[0m\u001b[0;34m)\u001b[0m\u001b[0;34m\u001b[0m\u001b[0;34m\u001b[0m\u001b[0m\n\u001b[0m\u001b[1;32m      4\u001b[0m \u001b[0max\u001b[0m\u001b[0;34m.\u001b[0m\u001b[0myaxis\u001b[0m\u001b[0;34m.\u001b[0m\u001b[0mset_major_formatter\u001b[0m\u001b[0;34m(\u001b[0m\u001b[0mticker\u001b[0m\u001b[0;34m.\u001b[0m\u001b[0mStrMethodFormatter\u001b[0m\u001b[0;34m(\u001b[0m\u001b[0;34m\"{x:,.2f}\"\u001b[0m\u001b[0;34m)\u001b[0m\u001b[0;34m)\u001b[0m\u001b[0;34m\u001b[0m\u001b[0;34m\u001b[0m\u001b[0m\n\u001b[1;32m      5\u001b[0m \u001b[0mplt\u001b[0m\u001b[0;34m.\u001b[0m\u001b[0mtitle\u001b[0m\u001b[0;34m(\u001b[0m\u001b[0;34m\"Gastos Internações por Estados\"\u001b[0m\u001b[0;34m)\u001b[0m\u001b[0;34m\u001b[0m\u001b[0;34m\u001b[0m\u001b[0m\n",
            "\u001b[0;32m/usr/local/lib/python3.6/dist-packages/pandas/plotting/_core.py\u001b[0m in \u001b[0;36m__call__\u001b[0;34m(self, *args, **kwargs)\u001b[0m\n\u001b[1;32m    947\u001b[0m                     \u001b[0mdata\u001b[0m\u001b[0;34m.\u001b[0m\u001b[0mcolumns\u001b[0m \u001b[0;34m=\u001b[0m \u001b[0mlabel_name\u001b[0m\u001b[0;34m\u001b[0m\u001b[0;34m\u001b[0m\u001b[0m\n\u001b[1;32m    948\u001b[0m \u001b[0;34m\u001b[0m\u001b[0m\n\u001b[0;32m--> 949\u001b[0;31m         \u001b[0;32mreturn\u001b[0m \u001b[0mplot_backend\u001b[0m\u001b[0;34m.\u001b[0m\u001b[0mplot\u001b[0m\u001b[0;34m(\u001b[0m\u001b[0mdata\u001b[0m\u001b[0;34m,\u001b[0m \u001b[0mkind\u001b[0m\u001b[0;34m=\u001b[0m\u001b[0mkind\u001b[0m\u001b[0;34m,\u001b[0m \u001b[0;34m**\u001b[0m\u001b[0mkwargs\u001b[0m\u001b[0;34m)\u001b[0m\u001b[0;34m\u001b[0m\u001b[0;34m\u001b[0m\u001b[0m\n\u001b[0m\u001b[1;32m    950\u001b[0m \u001b[0;34m\u001b[0m\u001b[0m\n\u001b[1;32m    951\u001b[0m     \u001b[0m__call__\u001b[0m\u001b[0;34m.\u001b[0m\u001b[0m__doc__\u001b[0m \u001b[0;34m=\u001b[0m \u001b[0m__doc__\u001b[0m\u001b[0;34m\u001b[0m\u001b[0;34m\u001b[0m\u001b[0m\n",
            "\u001b[0;32m/usr/local/lib/python3.6/dist-packages/pandas/plotting/_matplotlib/__init__.py\u001b[0m in \u001b[0;36mplot\u001b[0;34m(data, kind, **kwargs)\u001b[0m\n\u001b[1;32m     59\u001b[0m             \u001b[0mkwargs\u001b[0m\u001b[0;34m[\u001b[0m\u001b[0;34m\"ax\"\u001b[0m\u001b[0;34m]\u001b[0m \u001b[0;34m=\u001b[0m \u001b[0mgetattr\u001b[0m\u001b[0;34m(\u001b[0m\u001b[0max\u001b[0m\u001b[0;34m,\u001b[0m \u001b[0;34m\"left_ax\"\u001b[0m\u001b[0;34m,\u001b[0m \u001b[0max\u001b[0m\u001b[0;34m)\u001b[0m\u001b[0;34m\u001b[0m\u001b[0;34m\u001b[0m\u001b[0m\n\u001b[1;32m     60\u001b[0m     \u001b[0mplot_obj\u001b[0m \u001b[0;34m=\u001b[0m \u001b[0mPLOT_CLASSES\u001b[0m\u001b[0;34m[\u001b[0m\u001b[0mkind\u001b[0m\u001b[0;34m]\u001b[0m\u001b[0;34m(\u001b[0m\u001b[0mdata\u001b[0m\u001b[0;34m,\u001b[0m \u001b[0;34m**\u001b[0m\u001b[0mkwargs\u001b[0m\u001b[0;34m)\u001b[0m\u001b[0;34m\u001b[0m\u001b[0;34m\u001b[0m\u001b[0m\n\u001b[0;32m---> 61\u001b[0;31m     \u001b[0mplot_obj\u001b[0m\u001b[0;34m.\u001b[0m\u001b[0mgenerate\u001b[0m\u001b[0;34m(\u001b[0m\u001b[0;34m)\u001b[0m\u001b[0;34m\u001b[0m\u001b[0;34m\u001b[0m\u001b[0m\n\u001b[0m\u001b[1;32m     62\u001b[0m     \u001b[0mplot_obj\u001b[0m\u001b[0;34m.\u001b[0m\u001b[0mdraw\u001b[0m\u001b[0;34m(\u001b[0m\u001b[0;34m)\u001b[0m\u001b[0;34m\u001b[0m\u001b[0;34m\u001b[0m\u001b[0m\n\u001b[1;32m     63\u001b[0m     \u001b[0;32mreturn\u001b[0m \u001b[0mplot_obj\u001b[0m\u001b[0;34m.\u001b[0m\u001b[0mresult\u001b[0m\u001b[0;34m\u001b[0m\u001b[0;34m\u001b[0m\u001b[0m\n",
            "\u001b[0;32m/usr/local/lib/python3.6/dist-packages/pandas/plotting/_matplotlib/core.py\u001b[0m in \u001b[0;36mgenerate\u001b[0;34m(self)\u001b[0m\n\u001b[1;32m    267\u001b[0m     \u001b[0;32mdef\u001b[0m \u001b[0mgenerate\u001b[0m\u001b[0;34m(\u001b[0m\u001b[0mself\u001b[0m\u001b[0;34m)\u001b[0m\u001b[0;34m:\u001b[0m\u001b[0;34m\u001b[0m\u001b[0;34m\u001b[0m\u001b[0m\n\u001b[1;32m    268\u001b[0m         \u001b[0mself\u001b[0m\u001b[0;34m.\u001b[0m\u001b[0m_args_adjust\u001b[0m\u001b[0;34m(\u001b[0m\u001b[0;34m)\u001b[0m\u001b[0;34m\u001b[0m\u001b[0;34m\u001b[0m\u001b[0m\n\u001b[0;32m--> 269\u001b[0;31m         \u001b[0mself\u001b[0m\u001b[0;34m.\u001b[0m\u001b[0m_compute_plot_data\u001b[0m\u001b[0;34m(\u001b[0m\u001b[0;34m)\u001b[0m\u001b[0;34m\u001b[0m\u001b[0;34m\u001b[0m\u001b[0m\n\u001b[0m\u001b[1;32m    270\u001b[0m         \u001b[0mself\u001b[0m\u001b[0;34m.\u001b[0m\u001b[0m_setup_subplots\u001b[0m\u001b[0;34m(\u001b[0m\u001b[0;34m)\u001b[0m\u001b[0;34m\u001b[0m\u001b[0;34m\u001b[0m\u001b[0m\n\u001b[1;32m    271\u001b[0m         \u001b[0mself\u001b[0m\u001b[0;34m.\u001b[0m\u001b[0m_make_plot\u001b[0m\u001b[0;34m(\u001b[0m\u001b[0;34m)\u001b[0m\u001b[0;34m\u001b[0m\u001b[0;34m\u001b[0m\u001b[0m\n",
            "\u001b[0;32m/usr/local/lib/python3.6/dist-packages/pandas/plotting/_matplotlib/core.py\u001b[0m in \u001b[0;36m_compute_plot_data\u001b[0;34m(self)\u001b[0m\n\u001b[1;32m    416\u001b[0m         \u001b[0;31m# no non-numeric frames or series allowed\u001b[0m\u001b[0;34m\u001b[0m\u001b[0;34m\u001b[0m\u001b[0;34m\u001b[0m\u001b[0m\n\u001b[1;32m    417\u001b[0m         \u001b[0;32mif\u001b[0m \u001b[0mis_empty\u001b[0m\u001b[0;34m:\u001b[0m\u001b[0;34m\u001b[0m\u001b[0;34m\u001b[0m\u001b[0m\n\u001b[0;32m--> 418\u001b[0;31m             \u001b[0;32mraise\u001b[0m \u001b[0mTypeError\u001b[0m\u001b[0;34m(\u001b[0m\u001b[0;34m\"no numeric data to plot\"\u001b[0m\u001b[0;34m)\u001b[0m\u001b[0;34m\u001b[0m\u001b[0;34m\u001b[0m\u001b[0m\n\u001b[0m\u001b[1;32m    419\u001b[0m \u001b[0;34m\u001b[0m\u001b[0m\n\u001b[1;32m    420\u001b[0m         \u001b[0;31m# GH25587: cast ExtensionArray of pandas (IntegerArray, etc.) to\u001b[0m\u001b[0;34m\u001b[0m\u001b[0;34m\u001b[0m\u001b[0;34m\u001b[0m\u001b[0m\n",
            "\u001b[0;31mTypeError\u001b[0m: no numeric data to plot"
          ]
        }
      ]
    },
    {
      "cell_type": "code",
      "metadata": {
        "id": "DfASOsEngMrk"
      },
      "source": [
        "## o item 1 (12 Acre) tem um valor faltando na coluna, observe:\n",
        "dados.head(2)"
      ],
      "execution_count": null,
      "outputs": []
    },
    {
      "cell_type": "code",
      "metadata": {
        "id": "fiv-ncaDh1U_"
      },
      "source": [
        "# dados.isnull().head() # nao detectou desta forma pois esta preenchido por -\n",
        "# dados.isna().head() # nao detectou desta forma pois esta preenchido por -\n",
        "dados[\"2020/Ago\"]"
      ],
      "execution_count": null,
      "outputs": []
    },
    {
      "cell_type": "code",
      "metadata": {
        "id": "dUOUseg3jrH2"
      },
      "source": [
        "#Substituir \"-\" por \"NaN\"\n",
        "dados.replace(to_replace=\"-\", value=np.nan, inplace=True)\n",
        "dados.head(2)"
      ],
      "execution_count": null,
      "outputs": []
    },
    {
      "cell_type": "code",
      "metadata": {
        "id": "ZKiDVKdl7wzJ"
      },
      "source": [
        "#verificar se tem valores nulos\n",
        "dados.isnull().sum()"
      ],
      "execution_count": null,
      "outputs": []
    },
    {
      "cell_type": "code",
      "metadata": {
        "id": "TCZRvi4A089c"
      },
      "source": [
        "#observe que a série agora é dtype: object e não float64 como no exemplo \n",
        "# anterior \"2008/Ago\" por isto não estava consiguindo plotar\n",
        "dados[\"2020/Ago\"]"
      ],
      "execution_count": null,
      "outputs": []
    },
    {
      "cell_type": "code",
      "metadata": {
        "id": "W2IXDvAzBitK"
      },
      "source": [
        "#Substituir \"NaN\" por \"0.00\"\n",
        "dados.fillna(float(0), inplace=True)\n",
        "dados.head(2)"
      ],
      "execution_count": null,
      "outputs": []
    },
    {
      "cell_type": "code",
      "metadata": {
        "id": "SFBUjNIIoPhV"
      },
      "source": [
        "dados[\"2020/Ago\"].head(2)"
      ],
      "execution_count": null,
      "outputs": []
    },
    {
      "cell_type": "code",
      "metadata": {
        "id": "F08qS3mZ7uP_"
      },
      "source": [
        "#convertendo a série dados[\"2020/Ago\"] de dtype: object para\n",
        "#dtype: float64\n",
        "dados = dados.astype({\"2020/Ago\":float})"
      ],
      "execution_count": null,
      "outputs": []
    },
    {
      "cell_type": "markdown",
      "metadata": {
        "id": "PiDpZDNKyn1U"
      },
      "source": [
        "## DESAFIO 2 - GRÁFICOS\n",
        "\n",
        "#### Faça a mesma análise realizada em aula, porém para o mês mais recente."
      ]
    },
    {
      "cell_type": "code",
      "metadata": {
        "id": "NyoaYRzxXeWH"
      },
      "source": [
        "# gerar um DataFrame menor : lista de \"Unidade da Federação\" e \"2020/Ago\" e ordenar \n",
        "ago_2020 = dados[[\"Unidade da Federação\", \"2020/Ago\"]].sort_values(\"2020/Ago\")\n",
        "ago_2020.head(2)"
      ],
      "execution_count": null,
      "outputs": []
    },
    {
      "cell_type": "code",
      "metadata": {
        "id": "kwydcw17YPGi"
      },
      "source": [
        "#comparando o investimento/gastos em internação de todos os estados comparados com SP\n",
        "porc_SP = ago_2020[\"2020/Ago\"]/346512263.17\n",
        "porc_SP*100.head(2)"
      ],
      "execution_count": null,
      "outputs": []
    },
    {
      "cell_type": "code",
      "metadata": {
        "id": "pzPB1V5JXCLC"
      },
      "source": [
        "# gerar um DataFrame menor : lista de \"Unidade da Federação\" e \"2020/Ago\" e ordenar \n",
        "ago_2020 = dados[[\"Unidade da Federação\", \"2020/Ago\"]].sort_values(\"2020/Ago\")\n",
        "#remover o número da Unidade de Federação\n",
        "uf = ago_2020[\"Unidade da Federação\"].str.slice(start=3)#série uf short\n",
        "uf.head(2)\n",
        "#Deixa o eixo em unidades de Milhão\n",
        "ago_2020 = ago_2020[\"2020/Ago\"]/1000000\n",
        "ago_2020.head(2)\n",
        "#juntas as duas séries criadas\n",
        "dados_uf_ago_2020=pd.concat([uf,ago_2020], axis=1)\n",
        "dados_uf_ago_2020.head(2)"
      ],
      "execution_count": null,
      "outputs": []
    },
    {
      "cell_type": "code",
      "metadata": {
        "id": "ljmFK6PI075g"
      },
      "source": [
        "####################### plotar o gráfico de 2020/Ago ###########################\n",
        "\n",
        "ax = dados_uf_ago_2020.plot.bar(x=\"Unidade da Federação\",y=\"2020/Ago\", \n",
        "                figsize=(8,10), width=0.9, color = \"b\")\n",
        "\n",
        "########################### Estética do gráfico ################################\n",
        "\n",
        "ax.yaxis.set_major_formatter(ticker.StrMethodFormatter(\"{x:,.2f}\"))\n",
        "\n",
        "plt.legend(loc = \"upper left\", borderaxespad=0.5) #posiciona a legenda\n",
        "plt.title(\"Valor com Internações por Unidade da Federação \\n Dados SUS- Ago/2020\", \n",
        "          fontsize = 16, fontweight = \"bold\") # adiciona título\n",
        "ax.set_xlabel(\"Unidade da Federação\",fontsize = 14, fontweight = \"bold\") #nomeia x\n",
        "ax.set_ylabel(\"Valor (Milhões de R$)\",fontsize = 14, fontweight = \"bold\") #nomeia y\n",
        "\n",
        "ax.tick_params(axis=\"x\", labelsize=12) #modifica o tamanho do tick em x\n",
        "ax.tick_params(axis=\"y\", labelsize=12) #modifica o tamanho do tick em y\n",
        "\n",
        "ax.xaxis.grid(True, color='b', alpha=0.5, linestyle='dashed', linewidth=0.5) #grid em x\n",
        "ax.yaxis.grid(True, color='b', alpha=0.5, linestyle='dashed', linewidth=0.5) #grid em y\n",
        "\n",
        "\n",
        "plt.show()"
      ],
      "execution_count": null,
      "outputs": []
    },
    {
      "cell_type": "code",
      "metadata": {
        "id": "rgrwWvgpocg_"
      },
      "source": [
        "dados_uf_ago_2020.head(2)"
      ],
      "execution_count": null,
      "outputs": []
    },
    {
      "cell_type": "code",
      "metadata": {
        "id": "o4IK8j9DzHHx"
      },
      "source": [
        "#setando o index\n",
        "dados_ago_2020_index = dados_uf_ago_2020.set_index(\"Unidade da Federação\")\n",
        "dados_ago_2020_index.head(2)"
      ],
      "execution_count": null,
      "outputs": []
    },
    {
      "cell_type": "code",
      "metadata": {
        "id": "FVV_FFsWnR6v"
      },
      "source": [
        "#Aparece um erro KeyError: 'Unidade da Federação'\n",
        "#este erro aparece pois ele não encontra x=\"Unidade da Federação\" na coluna mais\n",
        "#não precisa colocar o valor de x pois o DataFrame que foi gerado \n",
        "# já tem as informações necessárias e vai conseguir plotar\n",
        "dados_ago_2020_index.plot(x=\"Unidade da Federação\",y=\"2020/Ago\",kind=\"barh\")"
      ],
      "execution_count": null,
      "outputs": []
    },
    {
      "cell_type": "code",
      "metadata": {
        "id": "WzPWA46AzJS9"
      },
      "source": [
        "#plotagem pelo dado que foi transposto\n",
        "\n",
        "####################### plotar o gráfico de 2020/Ago ###########################\n",
        "\n",
        "dados_ago_2020_index.plot(kind=\"barh\",figsize=(8,10), width=0.9, \n",
        "                               color = \"blue\", tick_label = \"12\")\n",
        "\n",
        "########################### Estética do gráfico ################################\n",
        "\n",
        "#ax.yaxis.set_major_formatter(ticker.StrMethodFormatter(\"{x:,.2f}\"))\n",
        "\n",
        "plt.legend(loc = \"lower right\", borderaxespad=0.5) #posiciona a legenda\n",
        "plt.title(\"Valor com Internações por Unidade da Federação \\n Dados SUS- Ago/2020\", \n",
        "          fontsize = 16, fontweight = \"bold\") # adiciona título\n",
        "plt.xlabel(\"Valor (Milhões de R$)\",fontsize = 14, fontweight = \"bold\") #nomeia x\n",
        "plt.ylabel(\"Unidade da Federação\",fontsize = 14, fontweight = \"bold\") #nomeia y\n",
        "\n",
        "plt.tick_params(axis=\"x\", labelsize=12) #modifica o tamanho do tick em x\n",
        "plt.tick_params(axis=\"y\", labelsize=12) #modifica o tamanho do tick em y\n",
        "\n",
        "plt.grid(True, color='b', alpha=0.5, linestyle='dashed', linewidth=0.5)"
      ],
      "execution_count": null,
      "outputs": []
    },
    {
      "cell_type": "markdown",
      "metadata": {
        "id": "xkSNWfb4qMDG"
      },
      "source": [
        "**Comentários**\n",
        "  O gráfico ilusta o valor (em milhões de reais) de internações do SUS por unidade federativa dados processados no mês de agosto de 2020.\n",
        "  \n",
        "  Observamos um maior valor no estado de São Paulo (SP) com a relação a qualquer outro estado da Federação. Um dos possíveis fatores desta grande diferença de valores é a diferença populacional, SP possui 46.289.333 habitantes (IBGE/2020), o que representa o mais que o dobro da atual população de Minas Gerais 21.292.666 habitantes (IBGE/2020) (~ 46% da população do estado de SP), por exemplo. O valor investido em Minas Gerais representa ~ 48% do valor investido em SP. Em contraste o Amazonas 4.207.714 habitantes (~ 9% da população do estado de SP) e representa ~4,2% do valor que foi investido no estado de SP.\n",
        "  \n",
        "  Esta é apenas um ponto levantado dos possíveis fatores existem outros fatores para esta diferença, como exemplo fatores sociais e econômicos que certamente afetam o número de internações e consequentemente os valores de gastos.\n",
        "\n",
        "referência:\n",
        "https://www.ibge.gov.br/cidades-e-estados/sp.html"
      ]
    },
    {
      "cell_type": "markdown",
      "metadata": {
        "id": "tKKwmRKm2Qny"
      },
      "source": [
        "---\n",
        "\n",
        "# AULA 2 - Primeira visualização de dados - ATENDIMENTO\n",
        "\n",
        "---"
      ]
    },
    {
      "cell_type": "markdown",
      "metadata": {
        "id": "DiMdWjyo3sbT"
      },
      "source": [
        "### Importanto as Bibliotecas"
      ]
    },
    {
      "cell_type": "code",
      "metadata": {
        "id": "wujQXUhs2Tvq"
      },
      "source": [
        "## importanto biblioteca\n",
        "import pandas as pd\n",
        "import matplotlib.pyplot as plt\n",
        "import numpy as np\n",
        "import matplotlib.ticker as ticker\n",
        "from matplotlib.ticker import (MultipleLocator, ScalarFormatter, IndexFormatter)\n",
        "####''' FormatStrFormatter, AutoMinorLocator '''"
      ],
      "execution_count": null,
      "outputs": []
    },
    {
      "cell_type": "markdown",
      "metadata": {
        "id": "MBZmDy2M2cc9"
      },
      "source": [
        "### Importanto os Dados"
      ]
    },
    {
      "cell_type": "code",
      "metadata": {
        "id": "fBNAjIT02dF8"
      },
      "source": [
        "## lendo os dados e criando uma variável dados\n",
        "\n",
        "dados = pd.read_csv(\"/content/drive/My Drive/Colab Notebooks/BootcampDataScience_Alura/Procedimentos_Hospitares_SUS_Atendimento.csv\", \n",
        "                    encoding=\"ISO-8859-1\", skiprows = 3, sep = \";\", \n",
        "                    skipfooter=12,thousands=\".\", decimal=\",\")\n",
        "##para ver as primeiras 5 linhas dos dados\n",
        "dados.head(2)"
      ],
      "execution_count": null,
      "outputs": []
    },
    {
      "cell_type": "markdown",
      "metadata": {
        "id": "ngvJo-hI34ys"
      },
      "source": [
        "## Explorando e Visualizando os Dados"
      ]
    },
    {
      "cell_type": "code",
      "metadata": {
        "id": "YzrH4JvR2mjC"
      },
      "source": [
        "#tentar tirar a média\n",
        "dados.mean()\n",
        "\n",
        "###observe que ele só retorna as colunas mês/ano que tem todos os dados preenchidos"
      ],
      "execution_count": null,
      "outputs": []
    },
    {
      "cell_type": "code",
      "metadata": {
        "id": "rB0CBKt136Ir"
      },
      "source": [
        "'''Vamos atribuir estas colunas inteiramente preenchidas em uma variável \n",
        "(colunas_usaveis) e gerar um index - gerando um índice que é \n",
        "como se fosse uma lista de Python na verdade não é, ele é um índice do Pandas\n",
        "que vai se comportar como um array do Numpy, lembra array é possível fazer slice (AULA 3)'''\n",
        "\n",
        "colunas_usaveis = dados.mean().index\n",
        "colunas_usaveis"
      ],
      "execution_count": null,
      "outputs": []
    },
    {
      "cell_type": "code",
      "metadata": {
        "id": "mnuPwI994AmF"
      },
      "source": [
        "#fazer um slice do DataFrame total só das colunas que tem todos estes dados preenchidos\n",
        "#observe que está sem os estados, vamos tentar adicionar os estados\n",
        "dados[colunas_usaveis].head(2)"
      ],
      "execution_count": null,
      "outputs": []
    },
    {
      "cell_type": "code",
      "metadata": {
        "id": "AHsPMGqb4Jym"
      },
      "source": [
        "#vamos e gerar uma lista colunas_usaveis e inserir a coluna Unidade da Federação na posição 0\n",
        "\n",
        "colunas_usaveis = dados.mean().index.tolist()\n",
        "colunas_usaveis.insert(0, \"Unidade da Federação\")\n",
        "\n",
        "#    Para inserir é preciso pois o index é um serie imutável e para inserir a \n",
        "# coluna Unidade da Federação devemos transformar em uma lista de python \n",
        "# (.tolist()) pois a lista de Python é mutável, ela pode ser alterada\n",
        "colunas_usaveis\n",
        "# Resumindo geramos uma lista com \"Unidade da Federação\" e colunas Mês/Ano com \n",
        "#valores inteiramente preenchidos, não há valores nulos nesta lista e chamamos\n",
        "#esta lista de colunas usaveis\n",
        "\n"
      ],
      "execution_count": null,
      "outputs": []
    },
    {
      "cell_type": "code",
      "metadata": {
        "id": "V2OCppxXpoSr"
      },
      "source": [
        "#fazer um slice do DataFrame total só das colunas que tem todos estes dados preenchidos\n",
        "# e agora também inclui os estados\n",
        "#atribuir o slice(dados[colunas_usaveis]) para uma variável chamada de usaveis\n",
        "\n",
        "usaveis = dados[colunas_usaveis]\n",
        "usaveis.head(2)"
      ],
      "execution_count": null,
      "outputs": []
    },
    {
      "cell_type": "code",
      "metadata": {
        "id": "-POk_wFz4Mdq"
      },
      "source": [
        "# Transformando \"Unidade da Federação\" em índice\n",
        "# e reatribuindo a variável usaveis\n",
        "usaveis = usaveis.set_index(\"Unidade da Federação\")\n",
        "usaveis.head(2)"
      ],
      "execution_count": null,
      "outputs": []
    },
    {
      "cell_type": "code",
      "metadata": {
        "id": "hSVCOL9b4Of-"
      },
      "source": [
        "#Traz a coluna de 2019/Ago\n",
        "usaveis[\"2019/Ago\"].head(3)"
      ],
      "execution_count": null,
      "outputs": []
    },
    {
      "cell_type": "code",
      "metadata": {
        "id": "mSe8KQ7r4RNh"
      },
      "source": [
        "#Traz a linha de 12 Acre\n",
        "usaveis.loc[\"12 Acre\"]"
      ],
      "execution_count": null,
      "outputs": []
    },
    {
      "cell_type": "code",
      "metadata": {
        "id": "pdoPELjD4TRB"
      },
      "source": [
        "#Para transpor o DataFrame usa o .T\n",
        "usaveis.T.head(2)"
      ],
      "execution_count": null,
      "outputs": []
    },
    {
      "cell_type": "code",
      "metadata": {
        "id": "y8qnSYJN4VEJ"
      },
      "source": [
        "usaveis.T.plot(figsize=(10,6))"
      ],
      "execution_count": null,
      "outputs": []
    },
    {
      "cell_type": "code",
      "metadata": {
        "id": "WHTg2l5z4br9"
      },
      "source": [
        "#observe que no final do gráfico teve um valor extremamente alto, vamos olhar o tail\n",
        "usaveis.T.tail()\n",
        "\n",
        "#ele tem um valor total, por isto estraga o nosso gráfico"
      ],
      "execution_count": null,
      "outputs": []
    },
    {
      "cell_type": "code",
      "metadata": {
        "id": "Z7rbfiw04eHo"
      },
      "source": [
        "#removendo a linha Total (axis=1) e reatribuindo ele na mesma variável \n",
        "usaveis = usaveis.drop(\"Total\", axis=1)\n",
        "usaveis.head()"
      ],
      "execution_count": null,
      "outputs": []
    },
    {
      "cell_type": "code",
      "metadata": {
        "id": "x593GLEm4hC-"
      },
      "source": [
        "usaveis.T.plot(figsize=(10,6))"
      ],
      "execution_count": null,
      "outputs": []
    },
    {
      "cell_type": "markdown",
      "metadata": {
        "id": "v81OGDMy4p_G"
      },
      "source": [
        "## DESAFIO 1\n",
        "\n",
        "#### Reposicionar a legenda do gráfico em uma posição mais adequada\n",
        "https://matplotlib.org/tutorials/intermediate/legend_guide.html"
      ]
    },
    {
      "cell_type": "code",
      "metadata": {
        "id": "pHLVGgcZ8hyO"
      },
      "source": [
        "#criando uma DataFrame (usaveis_transposta) para fazer a transposta de usaveis\n",
        "usaveis_transposta = usaveis.T\n",
        "usaveis_transposta.head(2)"
      ],
      "execution_count": null,
      "outputs": []
    },
    {
      "cell_type": "code",
      "metadata": {
        "id": "DKtTHNTA8L-1"
      },
      "source": [
        "#dividindo todo o DataFrame usaveis_transposta por 1000000\n",
        "# para deixar o valor dos estados selecionados em milhões\n",
        "\n",
        "dataFrame = usaveis_transposta.div(1000000)\n",
        "dataFrame.head(2)"
      ],
      "execution_count": null,
      "outputs": []
    },
    {
      "cell_type": "code",
      "metadata": {
        "id": "JFeqztxz4isU"
      },
      "source": [
        "##DESAFIO 1\n",
        "####################### plotar o gráfico de 2008/Ago ###########################\n",
        "ax = dataFrame.plot(figsize=(10,6), lw=3)\n",
        "\n",
        "########################### Estética do gráfico ################################\n",
        "ax.yaxis.set_major_formatter(ticker.StrMethodFormatter(\"{x:,.2f}\"))\n",
        "\n",
        "plt.legend(bbox_to_anchor=(1.05, 1), loc='upper left', borderaxespad=0.)\n",
        "plt.title(\"Valor com Internações por Mês/Ano \\n Dados SUS\", \n",
        "          fontsize = 16, fontweight = \"bold\") # adiciona título\n",
        "\n",
        "ax.set_xlabel(\"Mês/Ano\",fontsize = 14, fontweight = \"bold\") #nomeia x\n",
        "ax.set_ylabel(\"Valor (Milhões de R$)\",fontsize = 14, fontweight = \"bold\") #nomeia y\n",
        "ax.tick_params(axis=\"x\", labelsize=12) #modifica o tamanho do tick em x\n",
        "ax.tick_params(axis=\"y\", labelsize=12) #modifica o tamanho do tick em y\n",
        "\n",
        "ax.xaxis.grid(True, color='b', alpha=0.5, linestyle='dashed', linewidth=0.5) #grid em x\n",
        "ax.yaxis.grid(True, color='b', alpha=0.5, linestyle='dashed', linewidth=0.5) #grid em y\n",
        "\n",
        "plt.show()"
      ],
      "execution_count": null,
      "outputs": []
    },
    {
      "cell_type": "markdown",
      "metadata": {
        "id": "I-ebREq865-Y"
      },
      "source": [
        "## DESAFIO 2 - AJUSTES\n",
        "\n",
        "### Plotar o gráfico de linha com apenas 5 estados de sua preferência"
      ]
    },
    {
      "cell_type": "code",
      "metadata": {
        "id": "WXLmOQEI5Srb"
      },
      "source": [
        "##DESAFIO 2 \n",
        "usaveis_transposta = usaveis.T\n",
        "usaveis_transposta.head(2)"
      ],
      "execution_count": null,
      "outputs": []
    },
    {
      "cell_type": "code",
      "metadata": {
        "id": "84S_Qt-F6-9K"
      },
      "source": [
        "estados_selecionados = usaveis_transposta[[\"13 Amazonas\",\"31 Minas Gerais\",\"33 Rio de Janeiro\",\"35 São Paulo\",\"42 Santa Catarina\"]]\n",
        "estados_selecionados.head(2)"
      ],
      "execution_count": null,
      "outputs": []
    },
    {
      "cell_type": "code",
      "metadata": {
        "id": "g-lEogOo6_aX"
      },
      "source": [
        "####################### plotar o gráfico de 2008/Ago ###########################\n",
        "ax = estados_selecionados.plot(figsize=(10,6))\n",
        "\n",
        "########################### Estética do gráfico ################################\n",
        "ax.yaxis.set_major_formatter(ticker.StrMethodFormatter(\"{x:,.2f}\"))\n",
        "\n",
        "plt.legend(bbox_to_anchor=(1.05, 1), loc='upper left', borderaxespad=0.)\n",
        "plt.title(\"Valor com Internações por Mês/Ano \\n Dados SUS\", \n",
        "          fontsize = 16, fontweight = \"bold\") # adiciona título\n",
        "\n",
        "ax.set_xlabel(\"Mês/Ano\",fontsize = 14, fontweight = \"bold\") #nomeia x\n",
        "ax.set_ylabel(\"Valor (R$)\",fontsize = 14, fontweight = \"bold\") #nomeia y\n",
        "ax.tick_params(axis=\"x\", labelsize=12) #modifica o tamanho do tick em x\n",
        "ax.tick_params(axis=\"y\", labelsize=12) #modifica o tamanho do tick em y\n",
        "\n",
        "ax.xaxis.grid(True, color='b', alpha=0.5, linestyle='dashed', linewidth=0.5) #grid em x\n",
        "ax.yaxis.grid(True, color='b', alpha=0.5, linestyle='dashed', linewidth=0.5) #grid em y\n",
        "\n",
        "plt.show()"
      ],
      "execution_count": null,
      "outputs": []
    },
    {
      "cell_type": "markdown",
      "metadata": {
        "id": "ZzQX41el7m2c"
      },
      "source": [
        "######Removendo os números da coluna \"Unidade da Federacao\"\n",
        "\n",
        "###### https://pandas.pydata.org/pandas-docs/stable/reference/api/pandas.Series.str.html"
      ]
    },
    {
      "cell_type": "code",
      "metadata": {
        "id": "1oh86rN17lsp"
      },
      "source": [
        "usaveis.head(2)"
      ],
      "execution_count": null,
      "outputs": []
    },
    {
      "cell_type": "code",
      "metadata": {
        "id": "wFmUmXkLrlxs"
      },
      "source": [
        "dados[colunas_usaveis].head(2)"
      ],
      "execution_count": null,
      "outputs": []
    },
    {
      "cell_type": "code",
      "metadata": {
        "id": "MCwwxtpRnUyO"
      },
      "source": [
        "#dividindo o número e nome do estado da na Unidade da Federação pelo do espaço (\" \")\n",
        "usaveis_novo_divisao = dados[colunas_usaveis]\n",
        "# quando separamos só com separando .str.split(\" \") ele separa todos os espaço \n",
        "# inclusive divide \"São\", \"Paulo\", para evitar isto usamos o 1 depois da vírgula\n",
        "# e ele separa só o primeiro espaço e manter São Paulo junto\n",
        "divisao = usaveis_novo_divisao[\"Unidade da Federação\"].str.split(\" \",1)\n",
        "divisao.head()"
      ],
      "execution_count": null,
      "outputs": []
    },
    {
      "cell_type": "code",
      "metadata": {
        "id": "ew7fzQJ8rkTP"
      },
      "source": [
        "#gerando uma nova coluna chamada Estados\n",
        "usaveis_novo_divisao[\"Estados\"] = divisao.str.get(1)\n",
        "usaveis_novo_divisao.head(2)"
      ],
      "execution_count": null,
      "outputs": []
    },
    {
      "cell_type": "code",
      "metadata": {
        "id": "K-YhPRbb73jx"
      },
      "source": [
        "#tornando a coluna Estados indice\n",
        "usaveis_novo_divisao = usaveis_novo_divisao.set_index(\"Estados\")\n",
        "usaveis_novo_divisao.head(2)"
      ],
      "execution_count": null,
      "outputs": []
    },
    {
      "cell_type": "code",
      "metadata": {
        "id": "uS8HXTrh8AmY"
      },
      "source": [
        "# deletando as colunas \"Unidade da Federação\" e \"Total\"\n",
        "usaveis_novo_divisao = usaveis_novo_divisao.drop(\"Total\", axis=1)\n",
        "usaveis_novo_divisao = usaveis_novo_divisao.drop(\"Unidade da Federação\", axis=1)\n",
        "usaveis_novo_divisao.head(2)"
      ],
      "execution_count": null,
      "outputs": []
    },
    {
      "cell_type": "code",
      "metadata": {
        "id": "7Xlp_zAt8CUn"
      },
      "source": [
        "#fazendo a transposição de usaveis_novo_divisao\n",
        "usaveis_novo_divisao_transposta = usaveis_novo_divisao.T\n",
        "usaveis_novo_divisao_transposta.head(2)"
      ],
      "execution_count": null,
      "outputs": []
    },
    {
      "cell_type": "code",
      "metadata": {
        "id": "C553gfFp8Euy"
      },
      "source": [
        "#selecionando alguns estados\n",
        "estados_selecionados = usaveis_novo_divisao_transposta[[\"Amazonas\",\n",
        "  \"Minas Gerais\",\"Rio de Janeiro\",\"São Paulo\",\"Santa Catarina\"]]\n",
        "estados_selecionados.head()"
      ],
      "execution_count": null,
      "outputs": []
    },
    {
      "cell_type": "markdown",
      "metadata": {
        "id": "VilyTEMD8tMQ"
      },
      "source": [
        "## DESAFIO 2 - GRÁFICO\n",
        "\n",
        "### Plotar o gráfico de linha com apenas 5 estados de sua preferência"
      ]
    },
    {
      "cell_type": "code",
      "metadata": {
        "id": "A6Yv-Sgm3eK5"
      },
      "source": [
        "estados_selecionados.head(2)"
      ],
      "execution_count": null,
      "outputs": []
    },
    {
      "cell_type": "code",
      "metadata": {
        "id": "N0tAC_lT3cl3"
      },
      "source": [
        "#Deixando o valor dos estados selecionados em milhões\n",
        "#dividindo todo o DataFrame por 1000000\n",
        "df = estados_selecionados.div(1000000)\n",
        "df.head(2)"
      ],
      "execution_count": null,
      "outputs": []
    },
    {
      "cell_type": "code",
      "metadata": {
        "id": "III9gqwg8Irs"
      },
      "source": [
        "####################### plotar o gráfico de 2008/Ago ###########################\n",
        "ax = df.plot(figsize=(10,6), lw=3, ls='-', marker='o', markersize=5)\n",
        "\n",
        "########################### Estética do gráfico ################################\n",
        "ax.yaxis.set_major_formatter(ticker.StrMethodFormatter(\"{x:,.2f}\")) \n",
        "# notação fora da escala de 10\n",
        "#ax.set_ylim([0, 330000000.00]) # limite para o eixo y\n",
        "#plt.legend(bbox_to_anchor=(1.05, 1), loc='upper left', borderaxespad=0., )\n",
        "\n",
        "plt.legend(loc = \"upper right\", borderaxespad=0.5) #posiciona a legenda\n",
        "plt.title(\"Valor com Internações por Mês/Ano \\n Dados SUS\", fontsize = 16, \n",
        "          fontweight = \"bold\") # adiciona título\n",
        "\n",
        "ax.set_xlabel(\"Mês/Ano\",fontsize = 14, fontweight = \"bold\") #nomeia x\n",
        "ax.set_ylabel(\"Valor (Milhões R$)\",fontsize = 14, fontweight = \"bold\") #nomeia y\n",
        "\n",
        "ax.tick_params(axis=\"x\", labelsize=12) #modifica o número do tick em x\n",
        "ax.tick_params(axis=\"y\", labelsize=12) #modifica o número do tick em y\n",
        "\n",
        "#grid em x\n",
        "ax.xaxis.grid(True, color='b', alpha=0.5, linestyle='dashed', linewidth=0.5) \n",
        "#grid em y\n",
        "ax.yaxis.grid(True, color='b', alpha=0.5, linestyle='dashed', linewidth=0.5)\n",
        "\n",
        "plt.show()"
      ],
      "execution_count": null,
      "outputs": []
    },
    {
      "cell_type": "markdown",
      "metadata": {
        "id": "jwakLIG-5PKm"
      },
      "source": [
        "**Comentários**\n",
        "  O gráfico ilusta o valor (em milhões de reais) de atendimentos de internações do SUS por mês/Ano para os estados de Amazonia, Minas Gerais, Rio de Janeiro, São Paulo e Santa Catarina.\n",
        "  \n",
        "  Assim como na análise do gráfico de desafio 2 da primeira seção observamos um maior valor no estado de São Paulo (SP) com a relação a qualquer outros estados da Federação. \n",
        "  \n",
        "  É interessante observar que teve um mês (2008/Jan) que teve um aumento em todos os estados para o atendimento e internações em todos os diferentes estados analisados\n",
        "  \n",
        "  Preciso entender melhor, fazer mais pesquisas"
      ]
    },
    {
      "cell_type": "code",
      "metadata": {
        "id": "aXbOsiO78LiO"
      },
      "source": [
        "####################### plotar o gráfico de 2008/Ago ###########################\n",
        "ax = df.plot(figsize=(10,6), lw=3, ls='--', marker='o')\n",
        "\n",
        "########################### Estética do gráfico ################################\n",
        "ax.yaxis.set_major_formatter(ticker.StrMethodFormatter(\"{x:,.2f}\")) \n",
        "# notação fora da escala de 10\n",
        "ax.set_ylim([0, 330.00]) # limite para o eixo y\n",
        "ax.set_xlim([0, 10]) # limite para o eixo y\n",
        "plt.legend(bbox_to_anchor=(1.05, 1), loc='upper left', borderaxespad=0., )\n",
        "\n",
        "plt.title(\"Gastos Internações (Atendimentos) por mês/Ano\", fontsize = 16, \n",
        "          fontweight = \"bold\") # adiciona título\n",
        "\n",
        "ax.set_xlabel(\"Mês/Ano\",fontsize = 14, fontweight = \"bold\") #nomeia x\n",
        "ax.set_ylabel(\"Valor (Milhões R$)\",fontsize = 14, fontweight = \"bold\") #nomeia y\n",
        "\n",
        "ax.tick_params(axis=\"x\", labelsize=12) #modifica o número do tick em x\n",
        "ax.tick_params(axis=\"y\", labelsize=12) #modifica o número do tick em y\n",
        "\n",
        "#grid em x\n",
        "ax.xaxis.grid(True, color='b', alpha=0.5, linestyle='dashed', linewidth=0.5) \n",
        "#grid em y\n",
        "ax.yaxis.grid(True, color='b', alpha=0.5, linestyle='dashed', linewidth=0.5)\n",
        "\n",
        "plt.show()"
      ],
      "execution_count": null,
      "outputs": []
    },
    {
      "cell_type": "code",
      "metadata": {
        "id": "wOyRpBYXVsgt"
      },
      "source": [
        "####################### plotar o gráfico de 2008/Ago ###########################\n",
        "ax = df.plot(figsize=(10,6), lw=3, ls='--', marker='o')\n",
        "\n",
        "########################### Estética do gráfico ################################\n",
        "ax.yaxis.set_major_formatter(ticker.StrMethodFormatter(\"{x:,.2f}\")) \n",
        "# notação fora da escala de 10\n",
        "ax.set_ylim([0, 330.00]) # limite para o eixo y\n",
        "ax.set_xlim([0, 10]) # limite para o eixo y\n",
        "plt.legend(bbox_to_anchor=(1.05, 1), loc='upper left', borderaxespad=0., )\n",
        "\n",
        "plt.title(\"Gastos Internações (Atendimentos) por mês/Ano\", fontsize = 16, \n",
        "          fontweight = \"bold\") # adiciona título\n",
        "\n",
        "ax.set_xlabel(\"Mês/Ano\",fontsize = 14, fontweight = \"bold\") #nomeia x\n",
        "ax.set_ylabel(\"Valor (Milhões R$)\",fontsize = 14, fontweight = \"bold\") #nomeia y\n",
        "\n",
        "ax.tick_params(axis=\"x\", labelsize=12) #modifica o número do tick em x\n",
        "ax.tick_params(axis=\"y\", labelsize=12) #modifica o número do tick em y\n",
        "\n",
        "#grid em x\n",
        "ax.xaxis.grid(True, color='b', alpha=0.5, linestyle='dashed', linewidth=0.5) \n",
        "#grid em y\n",
        "ax.yaxis.grid(True, color='b', alpha=0.5, linestyle='dashed', linewidth=0.5)\n",
        "\n",
        "plt.show()"
      ],
      "execution_count": null,
      "outputs": []
    },
    {
      "cell_type": "code",
      "metadata": {
        "id": "Yo7s7FVj5Cr1"
      },
      "source": [
        "df.head(10)"
      ],
      "execution_count": null,
      "outputs": []
    },
    {
      "cell_type": "markdown",
      "metadata": {
        "id": "rytGbQbnx-yM"
      },
      "source": [
        "---\n",
        "\n",
        "# AULA 3 - Manipulação de dados - ATENDIMENTO\n",
        "\n",
        "---"
      ]
    },
    {
      "cell_type": "markdown",
      "metadata": {
        "id": "dbURZ6ASi-Oz"
      },
      "source": [
        "### Biblioteca e Dados foram importados na AULA 2"
      ]
    },
    {
      "cell_type": "markdown",
      "metadata": {
        "id": "ZSaYRN8RlEs4"
      },
      "source": [
        "## Explorando e Visualizando os Dados"
      ]
    },
    {
      "cell_type": "code",
      "metadata": {
        "id": "AVnwgbdFu1Kq"
      },
      "source": [
        "usaveis.T.plot(figsize=(10,6))"
      ],
      "execution_count": null,
      "outputs": []
    },
    {
      "cell_type": "code",
      "metadata": {
        "id": "dKt95IaClZmB"
      },
      "source": [
        "#head do usaveis.T\n",
        "usaveis.T.head(2)"
      ],
      "execution_count": null,
      "outputs": []
    },
    {
      "cell_type": "code",
      "metadata": {
        "id": "87KBZAi8mAOn"
      },
      "source": [
        "#head do DataFrame que criei sem o números da UF\n",
        "usaveis_novo_divisao_transposta.head(2)"
      ],
      "execution_count": null,
      "outputs": []
    },
    {
      "cell_type": "code",
      "metadata": {
        "id": "4jxOYHudtB2z"
      },
      "source": [
        "#dividindo todo o DataFrame usaveis_transposta por 1000000\n",
        "# para deixar o valor dos estados selecionados em milhões\n",
        "\n",
        "usaveis_tratado = usaveis_novo_divisao_transposta.div(1000000)\n",
        "usaveis_tratado.head(2)"
      ],
      "execution_count": null,
      "outputs": []
    },
    {
      "cell_type": "code",
      "metadata": {
        "id": "OMJ-i5iKzqX-"
      },
      "source": [
        "usaveis.T.head(2)"
      ],
      "execution_count": null,
      "outputs": []
    },
    {
      "cell_type": "code",
      "metadata": {
        "id": "9zRh4ygmu6LK"
      },
      "source": [
        "#vendo todas as columas do DataFrame\n",
        "usaveis.T.columns\n",
        "''' ele é um índice do Pandas que vai se comportar como um array do Numpy, \n",
        "lembra array é possível fazer slice (AULA 3)'''"
      ],
      "execution_count": null,
      "outputs": []
    },
    {
      "cell_type": "code",
      "metadata": {
        "id": "ge78WRahu6jm"
      },
      "source": [
        "usaveis.T.columns[0]"
      ],
      "execution_count": null,
      "outputs": []
    },
    {
      "cell_type": "code",
      "metadata": {
        "id": "7qiyD_Xbu6pk"
      },
      "source": [
        "'''quero um slice do segundo elemento (como começa em zero [0]-primeiro elemento,\n",
        "o segundo elemento é o [1]) até o quinto elemento o terceiro elemento ([4])'''\n",
        "\n",
        "usaveis.T.columns[0:4]\n",
        "\n",
        "#observe que ele retorna incluindo o primeiro mas não inclui o último"
      ],
      "execution_count": null,
      "outputs": []
    },
    {
      "cell_type": "code",
      "metadata": {
        "id": "X9iW9L1-u6x-"
      },
      "source": [
        "#assim os 5 primeiros estados na lista podem ser:\n",
        "usaveis.T.columns[:5] \n",
        "#é a mesma coisa que usaveis.T.columns[0:5] não precisa digitar o 0"
      ],
      "execution_count": null,
      "outputs": []
    },
    {
      "cell_type": "code",
      "metadata": {
        "id": "L84Y5Qufu64q"
      },
      "source": [
        "usaveis.T.columns"
      ],
      "execution_count": null,
      "outputs": []
    },
    {
      "cell_type": "code",
      "metadata": {
        "id": "CbwDcRQuzOib"
      },
      "source": [
        "usaveis.index\n",
        "# é igual a usaveis.T.columns pois os usaveis as linha são os estados"
      ],
      "execution_count": null,
      "outputs": []
    },
    {
      "cell_type": "code",
      "metadata": {
        "id": "0V-KJzOQz_uz"
      },
      "source": [
        "usaveis.head(2)"
      ],
      "execution_count": null,
      "outputs": []
    },
    {
      "cell_type": "code",
      "metadata": {
        "id": "-JyP47zHzOo9"
      },
      "source": [
        "usaveis.index[:5]"
      ],
      "execution_count": null,
      "outputs": []
    },
    {
      "cell_type": "code",
      "metadata": {
        "id": "B6YrT0GXzO5w"
      },
      "source": [
        "usaveis[:5]"
      ],
      "execution_count": null,
      "outputs": []
    },
    {
      "cell_type": "code",
      "metadata": {
        "id": "SdM1toBVzPD1"
      },
      "source": [
        "usaveis[:5].T.plot(figsize=(10,6))"
      ],
      "execution_count": null,
      "outputs": []
    },
    {
      "cell_type": "code",
      "metadata": {
        "id": "vGmo8ByKzPNe"
      },
      "source": [
        "#gerando 7 estados aleatoriamente \n",
        "usaveis.sample(n=7)\n",
        "'''cada vez que rodar ele vai dar diferente pois o computador gera sementes\n",
        "diferentes para a escolha'''"
      ],
      "execution_count": null,
      "outputs": []
    },
    {
      "cell_type": "code",
      "metadata": {
        "id": "cN5MT1c0zPTJ"
      },
      "source": [
        "'''para gerar e sempre dar o mesmo resultado precisamos dizer a semente para esta \n",
        "tomada de dados por isto precisamos da biblioteca numpy e vamos colocar \n",
        "um número para a semente'''\n",
        "\n",
        "np.random.seed(687942)\n",
        "\n",
        "usaveis.sample(n=7)\n",
        "\n",
        "'''é legal colocar a semente para garantir a reprodutibilidade das nossas análises\n",
        "este seed desta forma só afeta está célula assim se digitarmos apenas \n",
        "usaveis.sample(n=7) em outra célula sem impor o seed novamente ele vai usar \n",
        "um seed aleatório gerado pelo computador'''"
      ],
      "execution_count": null,
      "outputs": []
    },
    {
      "cell_type": "code",
      "metadata": {
        "id": "R6fL4DQ2zPan"
      },
      "source": [
        "usaveis.head(2)"
      ],
      "execution_count": null,
      "outputs": []
    },
    {
      "cell_type": "code",
      "metadata": {
        "id": "HjNuHemQzPAS"
      },
      "source": [
        "#soma - em cada coluna soma todos os índices\n",
        "'''por padrão o método soma usa em axis : {index (0), columns (1)}'''\n",
        "\n",
        "usaveis.sum()"
      ],
      "execution_count": null,
      "outputs": []
    },
    {
      "cell_type": "code",
      "metadata": {
        "id": "8J10nHxAzO0O"
      },
      "source": [
        "#soma - em cada índice soma todas as colunas (todos os custos do mesmo estado)\n",
        "usaveis.sum(axis=1)"
      ],
      "execution_count": null,
      "outputs": []
    },
    {
      "cell_type": "code",
      "metadata": {
        "id": "yl3dd6HGzOuF"
      },
      "source": [
        "#adicionando uma coluna \"Total\" em usaveis\n",
        "usaveis[\"Total\"] = usaveis.sum(axis=1)\n",
        "usaveis.head(2)"
      ],
      "execution_count": null,
      "outputs": []
    },
    {
      "cell_type": "code",
      "metadata": {
        "id": "179rBn1Q69o1"
      },
      "source": [
        "#ordenar os estados que gastam mais - em ordem crescente\n",
        "usaveis.sort_values(\"Total\").head(2)"
      ],
      "execution_count": null,
      "outputs": []
    },
    {
      "cell_type": "code",
      "metadata": {
        "id": "Ul3V5lTV69wK"
      },
      "source": [
        "#ordenar os estados que gastam mais - em ordem decrescente\n",
        "usaveis.sort_values(\"Total\", ascending=False).head(2)"
      ],
      "execution_count": null,
      "outputs": []
    },
    {
      "cell_type": "code",
      "metadata": {
        "id": "Iihed2As69t1"
      },
      "source": [
        "#atribuindo a uma variável os estados ordenado pelo gasto por ordem decrescente\n",
        "ordenado_por_total = usaveis.sort_values(\"Total\", ascending=False)\n",
        "# redefinindo esta variável (sobrescrevendo) deleteando a coluna Total \n",
        "ordenado_por_total = ordenado_por_total.drop(\"Total\",axis=1) \n",
        "ordenado_por_total.head(5)"
      ],
      "execution_count": null,
      "outputs": []
    },
    {
      "cell_type": "code",
      "metadata": {
        "id": "hbOGcmY869lv"
      },
      "source": [
        "ordenado_por_total.head(5).T.plot(figsize=(10,6))"
      ],
      "execution_count": null,
      "outputs": []
    },
    {
      "cell_type": "code",
      "metadata": {
        "id": "HwW3EQHP859p"
      },
      "source": [
        "#   fazendo um slice para remover as colunas antes de fev/2008 devido ao\n",
        "# ponto fora que tem em Jan de 2008.\n",
        "\n",
        "''' Hipótese: Jan de 2008 foi quando a coleta de dados começou a ser feita, uma \n",
        "possibilidade deste ponto fora de jan/2008 é o registro inadequado de dados \n",
        "sem data e foram marcados todos no mesmo mês em que se iniciou a coleta de dados\n",
        "\n",
        "tem um outro jeito de fazer este slice de forma mais elegante com apenas 1 linha\n",
        "ordenado_por_total.loc[:,'2008/Fev': '2020/Jun']'''\n",
        "\n",
        "''' para a solução abaixo utilizarei de 2 linhas a que gera e a que filtra - reatribui'''\n",
        "colunas_interessadas = ordenado_por_total.columns[6:] #aqui ele gera um index \n",
        "colunas_interessadas \n",
        "#filtrando o DataFrame pelas colunas que nos interessa\n",
        "ordenado_por_total[colunas_interessadas]\n",
        "#reatribuindo o ordenado_por_total\n",
        "ordenado_por_total = ordenado_por_total[colunas_interessadas]\n",
        "ordenado_por_total.head(2)"
      ],
      "execution_count": null,
      "outputs": []
    },
    {
      "cell_type": "code",
      "metadata": {
        "id": "WFilY-Tqq8SO"
      },
      "source": [
        "#tem um outro jeito de fazer este slice \n",
        "# fazendo um slice para remover as colunas antes de fev/2008 devido ao\n",
        "# ponto fora que tem em Jan de 2008.\n",
        "\n",
        "teste = ordenado_por_total.loc[:,'2008/Fev': '2020/Jun']\n",
        "teste.head()"
      ],
      "execution_count": null,
      "outputs": []
    },
    {
      "cell_type": "code",
      "metadata": {
        "id": "Y0OrlAOPCrRY"
      },
      "source": [
        "ordenado_por_total.head(5).T.plot(figsize=(10,6))"
      ],
      "execution_count": null,
      "outputs": []
    },
    {
      "cell_type": "code",
      "metadata": {
        "id": "xcrzuwmmCrbG"
      },
      "source": [
        "usaveis_tratado.head(2)"
      ],
      "execution_count": null,
      "outputs": []
    },
    {
      "cell_type": "code",
      "metadata": {
        "id": "70mY6SJfCrX8"
      },
      "source": [
        "usaveis_novo_divisao_transposta.head(2)"
      ],
      "execution_count": null,
      "outputs": []
    },
    {
      "cell_type": "markdown",
      "metadata": {
        "id": "FZVdRTV53IGx"
      },
      "source": [
        "######Removendo os números do index \"Unidade da Federacao\""
      ]
    },
    {
      "cell_type": "code",
      "metadata": {
        "id": "4Sje6mQbljm8"
      },
      "source": [
        "ordenado_por_total.head(2)"
      ],
      "execution_count": null,
      "outputs": []
    },
    {
      "cell_type": "markdown",
      "metadata": {
        "id": "D_1cRiICtHpz"
      },
      "source": [
        "quero separar os números do nome dos estados, e o nome dos estados está no index"
      ]
    },
    {
      "cell_type": "code",
      "metadata": {
        "id": "bRfowHmAn9Hm"
      },
      "source": [
        "#acessando o índice\n",
        "indice = ordenado_por_total.index\n",
        "indice"
      ],
      "execution_count": null,
      "outputs": []
    },
    {
      "cell_type": "code",
      "metadata": {
        "id": "ptS7pPN7mDc0"
      },
      "source": [
        "#separando o index no espaço\n",
        "\n",
        "''' quando separamos só com separando .str.split(\" \") ele separa todos os espaço \n",
        "inclusive divide \"São\", \"Paulo\", para evitar isto usamos o 1 depois da vírgula\n",
        "e ele separa só o primeiro espaço e manter São Paulo junto'''\n",
        "\n",
        "indice_div = indice.str.split(\" \", 1)\n",
        "indice_div"
      ],
      "execution_count": null,
      "outputs": []
    },
    {
      "cell_type": "code",
      "metadata": {
        "id": "eDk9gqOs1ETS"
      },
      "source": [
        "indice_div.str.get(0)"
      ],
      "execution_count": null,
      "outputs": []
    },
    {
      "cell_type": "code",
      "metadata": {
        "id": "c9_cpDTd1k6U"
      },
      "source": [
        "indice_div.str.get(1)"
      ],
      "execution_count": null,
      "outputs": []
    },
    {
      "cell_type": "code",
      "metadata": {
        "id": "cur95tDQzzHX"
      },
      "source": [
        "ordenado_por_total.head(2)"
      ],
      "execution_count": null,
      "outputs": []
    },
    {
      "cell_type": "code",
      "metadata": {
        "id": "y9M9yj0Gst9q"
      },
      "source": [
        "#gerando uma nova coluna chamada Estados no DataFrame ordenado_por_total \n",
        "ordenado_por_total[\"Estados\"] = indice_div.str.get(1)\n",
        "ordenado_por_total.head()"
      ],
      "execution_count": null,
      "outputs": []
    },
    {
      "cell_type": "code",
      "metadata": {
        "id": "Bdo8V1Ah2S-y"
      },
      "source": [
        "#tornando estado o indice\n",
        "ordenado_por_total = ordenado_por_total.set_index(\"Estados\")\n",
        "ordenado_por_total.head()"
      ],
      "execution_count": null,
      "outputs": []
    },
    {
      "cell_type": "code",
      "metadata": {
        "id": "bReulf4l5MP9"
      },
      "source": [
        "#Deixando o valor dos estados selecionados em milhões\n",
        "#dividindo todo o DataFrame por 1000000\n",
        "'''pode fazer assim também que dá a mesma coisa ordenado_por_total/1000000'''\n",
        "ordenado_por_total_tratados = ordenado_por_total.div(1000000)\n",
        "ordenado_por_total_tratados.head(2)"
      ],
      "execution_count": null,
      "outputs": []
    },
    {
      "cell_type": "markdown",
      "metadata": {
        "id": "rfttNp64suxJ"
      },
      "source": [
        "## DESAFIO 1\n",
        "\n",
        "#### Escolher uma palete de cores mais adequada do matplotlib.\n",
        "https://matplotlib.org/3.3.2/tutorials/colors/colormaps.html"
      ]
    },
    {
      "cell_type": "markdown",
      "metadata": {
        "id": "16oPz8NlI7a2"
      },
      "source": [
        "**GERAR UMA FUNÇÃO PARA PLOTAR ESTES GRÁFICOS**"
      ]
    },
    {
      "cell_type": "code",
      "metadata": {
        "id": "FofWg1Y03ebj"
      },
      "source": [
        "############################# plotar o gráfico #################################\n",
        "\n",
        "ax = ordenado_por_total_tratados.T.plot(figsize=(10,6), lw=2.2, ls='-', \n",
        "                                        colormap=\"tab20\")\n",
        "\n",
        "########################### Estética do gráfico ################################\n",
        "ax.yaxis.set_major_formatter(ticker.StrMethodFormatter(\"{x:,.2f}\")) \n",
        "\n",
        "#ax.set_xlim([40, 100]) # mudar limite para o eixo x\n",
        "\n",
        "#ax.set_ylim([0, 330.00]) # limite para o eixo y\n",
        "\n",
        "plt.legend(bbox_to_anchor=(1.05, 1), loc='upper left', borderaxespad=0.) #posiciona a legenda\n",
        "plt.title(\"Valor com Internações por Mês/Ano \\n Dados SUS\", fontsize = 16, \n",
        "          fontweight = \"bold\") # adiciona título\n",
        "\n",
        "ax.set_xlabel(\"Mês/Ano\",fontsize = 14, fontweight = \"bold\") #nomeia x\n",
        "ax.set_ylabel(\"Valor (Milhões R$)\",fontsize = 14, fontweight = \"bold\") #nomeia y\n",
        "\n",
        "ax.tick_params(axis=\"x\", labelsize=12) #modifica o número do tick em x\n",
        "ax.tick_params(axis=\"y\", labelsize=12) #modifica o número do tick em y\n",
        "\n",
        "\n",
        "ax.xaxis.grid(True, color='b', alpha=0.5, linestyle='dashed', linewidth=0.5) #grid em x\n",
        "ax.yaxis.grid(True, color='b', alpha=0.5, linestyle='dashed', linewidth=0.5)#grid em y\n",
        "\n",
        "plt.show()"
      ],
      "execution_count": null,
      "outputs": []
    },
    {
      "cell_type": "code",
      "metadata": {
        "id": "RFnAOafaGASo"
      },
      "source": [
        "len(ordenado_por_total_tratados.T.index)"
      ],
      "execution_count": null,
      "outputs": []
    },
    {
      "cell_type": "code",
      "metadata": {
        "id": "It8Iv8vAFkhf"
      },
      "source": [
        "############################# plotar o gráfico #################################\n",
        "\n",
        "ax = ordenado_por_total_tratados.T.plot(figsize=(10,6), lw=2.2, ls='-', \n",
        "                                        colormap=\"tab20\")\n",
        "\n",
        "########################### Estética do gráfico ################################\n",
        "ax.yaxis.set_major_formatter(ticker.StrMethodFormatter(\"{x:,.2f}\")) \n",
        "\n",
        "ax.set_xlim([40, 100]) # mudar limite para o eixo x\n",
        "\n",
        "plt.legend(bbox_to_anchor=(1.05, 1), loc='upper left', borderaxespad=0.) #posiciona a legenda\n",
        "plt.title(\"Valor com Internações por Mês/Ano \\n Dados SUS\", fontsize = 16, \n",
        "          fontweight = \"bold\") # adiciona título\n",
        "\n",
        "ax.set_xlabel(\"Mês/Ano\",fontsize = 14, fontweight = \"bold\") #nomeia x\n",
        "ax.set_ylabel(\"Valor (Milhões R$)\",fontsize = 14, fontweight = \"bold\") #nomeia y\n",
        "\n",
        "ax.tick_params(axis=\"x\", labelsize=12) #modifica o tamanho do tick em x\n",
        "ax.tick_params(axis=\"y\", labelsize=12) #modifica o tamanho do tick em y\n",
        "\n",
        "ax.xaxis.grid(True, color='b', alpha=0.5, linestyle='dashed', linewidth=0.5) #grid em x\n",
        "ax.yaxis.grid(True, color='b', alpha=0.5, linestyle='dashed', linewidth=0.5)#grid em y\n",
        "\n",
        "plt.show()"
      ],
      "execution_count": null,
      "outputs": []
    },
    {
      "cell_type": "code",
      "metadata": {
        "id": "UrT3cyb_J2ZN"
      },
      "source": [
        "############################# plotar o gráfico #################################\n",
        "\n",
        "ax = ordenado_por_total_tratados.T.plot(figsize=(10,6), lw=2.2, ls='-', \n",
        "                                        colormap=\"tab20\")\n",
        "\n",
        "########################### Estética do gráfico ################################\n",
        "ax.yaxis.set_major_formatter(ticker.StrMethodFormatter(\"{x:,.2f}\")) \n",
        "\n",
        "ax.set_xlim([60, 80]) # mudar limite para o eixo x\n",
        "\n",
        "plt.legend(bbox_to_anchor=(1.05, 1), loc='upper left', borderaxespad=0.) #posiciona a legenda\n",
        "plt.title(\"Valor com Internações por Mês/Ano \\n Dados SUS\", fontsize = 16, \n",
        "          fontweight = \"bold\") # adiciona título\n",
        "\n",
        "ax.set_xlabel(\"Mês/Ano\",fontsize = 14, fontweight = \"bold\") #nomeia x\n",
        "ax.set_ylabel(\"Valor (Milhões R$)\",fontsize = 14, fontweight = \"bold\") #nomeia y\n",
        "\n",
        "ax.tick_params(axis=\"x\", labelsize=12) #modifica o tamanho do tick em x\n",
        "ax.tick_params(axis=\"y\", labelsize=12) #modifica o tamanho do tick em y\n",
        "\n",
        "\n",
        "ax.xaxis.grid(True, color='b', alpha=0.5, linestyle='dashed', linewidth=0.5) #grid em x\n",
        "ax.yaxis.grid(True, color='b', alpha=0.5, linestyle='dashed', linewidth=0.5)#grid em y\n",
        "\n",
        "plt.show()"
      ],
      "execution_count": null,
      "outputs": []
    },
    {
      "cell_type": "code",
      "metadata": {
        "id": "ETOdSlHog72M"
      },
      "source": [
        "ordenado_por_total_tratados.T.head(10)"
      ],
      "execution_count": null,
      "outputs": []
    },
    {
      "cell_type": "code",
      "metadata": {
        "id": "j-D9F0OKeBux"
      },
      "source": [
        "'''TESTE'''\n",
        "############################# plotar o gráfico #################################\n",
        "\n",
        "ax = ordenado_por_total_tratados.T.plot(figsize=(10,6), lw=2.2, ls='-', \n",
        "                                        colormap=\"tab20\")\n",
        "\n",
        "########################### Estética do gráfico ################################\n",
        "ax.yaxis.set_major_formatter(ticker.StrMethodFormatter(\"{x:,.2f}\")) \n",
        "\n",
        "ax.set_xlim([60, 80]) # mudar limite para o eixo x\n",
        "\n",
        "plt.legend(bbox_to_anchor=(1.05, 1), loc='upper left', borderaxespad=0.) #posiciona a legenda\n",
        "plt.title(\"Valor com Internações por Mês/Ano \\n Dados SUS\", fontsize = 16, \n",
        "          fontweight = \"bold\") # adiciona título\n",
        "\n",
        "ax.set_xlabel(\"Mês/Ano\",fontsize = 14, fontweight = \"bold\") #nomeia x\n",
        "ax.set_ylabel(\"Valor (Milhões R$)\",fontsize = 14, fontweight = \"bold\") #nomeia y\n",
        "\n",
        "ax.tick_params(axis=\"x\", labelsize=12) #modifica o tamanho do tick em x\n",
        "ax.tick_params(axis=\"y\", labelsize=12) #modifica o tamanho do tick em y\n",
        "\n",
        "ax.xaxis.set_minor_locator (MultipleLocator(2)) #adiciona ticks menores entre a divisão de tick maiores, você controla o intevalo ()\n",
        "ax.xaxis.set_minor_formatter (ScalarFormatter()) #adiciona nome aos ticks menores entre a divisão de tick maiores\n",
        "'''PRECISO CONSEGUIR TROCAR OS NÚMEROS PELO STR DO INDEX'''\n",
        "\n",
        "\n",
        "ax.xaxis.grid(True, color='b', alpha=0.5, linestyle='dashed', linewidth=0.5) #grid em x\n",
        "ax.yaxis.grid(True, color='b', alpha=0.5, linestyle='dashed', linewidth=0.5)#grid em y\n",
        "#plt.style.use('default')\n",
        "plt.show()"
      ],
      "execution_count": null,
      "outputs": []
    },
    {
      "cell_type": "code",
      "metadata": {
        "id": "tVk9EtmwL9XS"
      },
      "source": [
        "############################# plotar o gráfico #################################\n",
        "\n",
        "ax = ordenado_por_total_tratados.T.plot(figsize=(10,6), lw=2.2, ls='-', \n",
        "                                        colormap=\"tab20\")\n",
        "\n",
        "########################### Estética do gráfico ################################\n",
        "ax.yaxis.set_major_formatter(ticker.StrMethodFormatter(\"{x:,.2f}\")) \n",
        "\n",
        "ax.set_xlim([70, 80]) # mudar limite para o eixo x\n",
        "'''ax.set_xticks(np.arange(70, 80, step=3))'''# mudar frequencia ticks #TA DANDO ERROOOOOOOOOOOOOO\n",
        "ax.xaxis.set_minor_locator(MultipleLocator(5))\n",
        "\n",
        "#ax.set_ylim([0, 330.00]) # limite para o eixo y\n",
        "'''#ax.set_yticks(np.arange(0, 200, step=10))'''# mudar frequencia ticks y#TA DANDO ERROOOOOOOOOOOOOO\n",
        "\n",
        "plt.legend(bbox_to_anchor=(1.05, 1), loc='upper left', borderaxespad=0.) #posiciona a legenda\n",
        "plt.title(\"Valor com Internações por Mês/Ano \\n Dados SUS\", fontsize = 16, \n",
        "          fontweight = \"bold\") # adiciona título\n",
        "\n",
        "ax.set_xlabel(\"Mês/Ano\",fontsize = 14, fontweight = \"bold\") #nomeia x\n",
        "ax.set_ylabel(\"Valor (Milhões R$)\",fontsize = 14, fontweight = \"bold\") #nomeia y\n",
        "'''para usar minor tick e o both do grid tive que importar  na biblioteca \n",
        "from matplotlib.ticker import (MultipleLocator, FormatStrFormatter,\n",
        "                               AutoMinorLocator)'''\n",
        "#ax.xaxis.set_minor_locator(MultipleLocator(0.5)) #TA DANDO ERROOOOOOOOOOOOOO\n",
        "\n",
        "ax.tick_params(axis=\"x\", labelsize=12) #modifica o tamanho do tick em x\n",
        "ax.tick_params(axis=\"y\", labelsize=12) #modifica o tamanho do tick em y\n",
        "\n",
        "ax.xaxis.grid(True, color='b', alpha=0.5, linestyle='dashed', linewidth=0.5, which=\"both\") #grid em x\n",
        "ax.yaxis.grid(True, color='b', alpha=0.5, linestyle='dashed', linewidth=0.5, which=\"both\")#grid em y\n",
        "\n",
        "plt.show()"
      ],
      "execution_count": null,
      "outputs": []
    },
    {
      "cell_type": "markdown",
      "metadata": {
        "id": "J8k0T1ULPUAN"
      },
      "source": [
        "**OBSERVAÇÕES SOBRE O GRÁFICO**-----TA ERRADO OS MEUS TICKS ESTAVA ZUADOS REVER\n",
        "Ocorre um pico de atendimento em fevereiro de 2009, este pico fica mais evidente no gráfico anterior a este, porém eu fiz um zoom e coloquei minor ticks a cada 3 meses no eixo x e consegui ver que o mês de pico é FEV/2009 (carnaval ocorreu nos dia 23 e 24 de Fev)... \n",
        "Uma provavel conclusão deste aumento nos gastos de atendimentos e internações se de devido ao carnaval que ocorre neste mês"
      ]
    },
    {
      "cell_type": "markdown",
      "metadata": {
        "id": "MXsB3Kn04DNM"
      },
      "source": [
        "## DESAFIO 2\n",
        "\n",
        "#### Adicionar uma coluna mostrando a região (Norte, Nodeste, Sul, Suldeste e Centro-Oeste) de cada estado."
      ]
    },
    {
      "cell_type": "code",
      "metadata": {
        "id": "u4PV8-q9JuDd"
      },
      "source": [
        "ordenado_por_total_tratados.head()"
      ],
      "execution_count": null,
      "outputs": []
    },
    {
      "cell_type": "code",
      "metadata": {
        "id": "YUrbuXduJuIQ"
      },
      "source": [
        "#atribuindo a uma variável os estados ordenado pelo gasto por ordem decrescente\n",
        "#quero recolocar a coluna das Unidades Federativas com os números\n",
        "ordenado_por_total = usaveis.sort_values(\"Total\", ascending=False)\n",
        "# redefinindo esta variável (sobrescrevendo) deleteando a coluna Total \n",
        "ordenado_por_total = ordenado_por_total.drop(\"Total\",axis=1) \n",
        "ordenado_por_total.head()"
      ],
      "execution_count": null,
      "outputs": []
    },
    {
      "cell_type": "code",
      "metadata": {
        "id": "YAFnEyApJuRZ"
      },
      "source": [
        "#Deixando o valor dos estados selecionados em milhões\n",
        "#dividindo todo o DataFrame por 1000000\n",
        "ordenado_por_total_tratados = ordenado_por_total/1000000\n",
        "ordenado_por_total_tratados.head(2)"
      ],
      "execution_count": null,
      "outputs": []
    },
    {
      "cell_type": "code",
      "metadata": {
        "id": "x6yZcBfxJuWs"
      },
      "source": [
        "ordenado_por_total.index"
      ],
      "execution_count": null,
      "outputs": []
    },
    {
      "cell_type": "code",
      "metadata": {
        "id": "h_ejIka8KbPL"
      },
      "source": [
        "#pega o primeiro número da UF do estado\n",
        "uf = ordenado_por_total.index\n",
        "num_regiao = uf.str.slice(start=0,stop=1)\n",
        "num_regiao"
      ],
      "execution_count": null,
      "outputs": []
    },
    {
      "cell_type": "code",
      "metadata": {
        "id": "c-1U0ahNKbYs"
      },
      "source": [
        "# criar um dicionário que acesse o nome da região\n",
        "# passo uma biblioteca mapa para que ele compare o valor do index num_regiao com\n",
        "dic_mapa = {'1': 'Norte', '2': 'Nordeste', '3': 'Sudeste', '4': 'Sul', '5': 'Centro-Oeste'}\n",
        "regiao = num_regiao.map(dic_mapa)\n",
        "regiao"
      ],
      "execution_count": null,
      "outputs": []
    },
    {
      "cell_type": "code",
      "metadata": {
        "id": "TcRTbBzJKbWp"
      },
      "source": [
        "#acrescenta a coluna no DataFrame ordenado_por_total\n",
        "ordenado_por_total['Região'] = regiao\n",
        "ordenado_por_total.head()"
      ],
      "execution_count": null,
      "outputs": []
    },
    {
      "cell_type": "code",
      "metadata": {
        "id": "x10NfwTDJF7N"
      },
      "source": [
        "''''\n",
        "Outraa forma de fazer\n",
        "# separar o indicador de reião presente no nome de cada estado\n",
        "dados_usaveis['Regiao'] = dados_usaveis.index.str[0]\n",
        "\n",
        "# criar um dicionário com as regiões do pais\n",
        "regioes = {1:'N', 2:'NE', 3:'SE', 4:'S', 5:'CO'}\n",
        "\n",
        "# aplicar o código criado no dicionário para cada estado\n",
        "dados_usaveis['Regiao'] = dados_usaveis['Regiao'].map(lambda i: regioes[int(i)])\n",
        "dados_usaveis['Regiao']\n",
        "'''"
      ],
      "execution_count": null,
      "outputs": []
    },
    {
      "cell_type": "code",
      "metadata": {
        "id": "Q-ozfzByKbTT"
      },
      "source": [
        "#split número do uf com o estado\n",
        "estados = ordenado_por_total.index.str.split(\" \", 1)\n",
        "estados"
      ],
      "execution_count": null,
      "outputs": []
    },
    {
      "cell_type": "code",
      "metadata": {
        "id": "tjZNjtE1JuNW"
      },
      "source": [
        "#seleciono a parte do str que quero e armazeno na variável\n",
        "estados_nome = estados.str.get(1)\n",
        "estados_nome"
      ],
      "execution_count": null,
      "outputs": []
    },
    {
      "cell_type": "code",
      "metadata": {
        "id": "HBxt1G0zJR_8"
      },
      "source": [
        "#inserindo no DataFrame ordenado_por_total a coluna Estados\n",
        "ordenado_por_total[\"Estados\"] = estados_nome\n",
        "ordenado_por_total.head()"
      ],
      "execution_count": null,
      "outputs": []
    },
    {
      "cell_type": "code",
      "metadata": {
        "id": "gBB9-beQBSAj"
      },
      "source": [
        "#plotando a região sudeste\n",
        "ordenado_por_total_sudeste = ordenado_por_total.query('Regiao==\"Sudeste\"')\n",
        "ordenado_por_total_sudeste.T.plot(figsize=(10,6), lw=2.2, ls='-', \n",
        "                                        colormap=\"viridis\")"
      ],
      "execution_count": null,
      "outputs": []
    },
    {
      "cell_type": "code",
      "metadata": {
        "id": "l8tuEXwB4J_G"
      },
      "source": [
        "#seta estados como indice\n",
        "ordenado_por_total = ordenado_por_total.set_index(\"Estados\")\n",
        "ordenado_por_total.head()"
      ],
      "execution_count": null,
      "outputs": []
    },
    {
      "cell_type": "markdown",
      "metadata": {
        "id": "MjuX--vJ4KM9"
      },
      "source": [
        "## DESAFIO 3\n",
        "\n",
        "#### Formatar o gráfico de custos por mês dos 5 estados, deixando ele agradável (Bonitão, segundo o Gui)"
      ]
    },
    {
      "cell_type": "code",
      "metadata": {
        "id": "L49udGMVYH31"
      },
      "source": [
        "############################# plotar o gráfico #################################\n",
        "\n",
        "ax = ordenado_por_total_tratados.head(5).T.plot(figsize=(10,6), lw=2.2, ls='-', \n",
        "                                        colormap=\"viridis\")\n",
        "\n",
        "########################### Estética do gráfico ################################\n",
        "\n",
        "ax.yaxis.set_major_formatter(ticker.StrMethodFormatter(\"{x:,.2f}\")) \n",
        "\n",
        "plt.legend(bbox_to_anchor=(1.05, 1), loc='upper left', borderaxespad=0.) #posiciona a legenda\n",
        "plt.title(\"Valor com Internações por Mês/Ano \\n Dados SUS\", fontsize = 16, \n",
        "          fontweight = \"bold\") # adiciona título\n",
        "\n",
        "ax.set_xlabel(\"Mês/Ano\",fontsize = 14, fontweight = \"bold\") #nomeia x\n",
        "ax.set_ylabel(\"Valor (Milhões R$)\",fontsize = 14, fontweight = \"bold\") #nomeia y\n",
        "\n",
        "ax.tick_params(axis=\"x\", labelsize=12) #modifica o número do tick em x\n",
        "ax.tick_params(axis=\"y\", labelsize=12) #modifica o número do tick em y\n",
        "\n",
        "\n",
        "ax.xaxis.grid(True, color='b', alpha=0.5, linestyle='dashed', linewidth=0.5) #grid em x\n",
        "ax.yaxis.grid(True, color='b', alpha=0.5, linestyle='dashed', linewidth=0.5)#grid em y"
      ],
      "execution_count": null,
      "outputs": []
    },
    {
      "cell_type": "markdown",
      "metadata": {
        "id": "nU8cOEam9_zu"
      },
      "source": [
        "## DESAFIO 4\n",
        "\n",
        "#### Adicione seu estado aos 5 estados existente nos plote. Obs: pegar um estado separado deste head(5) mesmo se meu estado tiver entre os 5, escolher um 6 estado em uma linha longe desta lista"
      ]
    },
    {
      "cell_type": "code",
      "metadata": {
        "id": "E7E9kVrwSQiV"
      },
      "source": [
        "selecao_estados = ordenado_por_total_tratados.head(5).T\n",
        "selecao_estados.head(2)"
      ],
      "execution_count": null,
      "outputs": []
    },
    {
      "cell_type": "code",
      "metadata": {
        "id": "ozlu0LHzSn0X"
      },
      "source": [
        "#para inserir no DataFrame preciso transformar ele em lista\n",
        "ordenado_por_total_tratados.T[\"29 Bahia\"]"
      ],
      "execution_count": null,
      "outputs": []
    },
    {
      "cell_type": "code",
      "metadata": {
        "id": "lpDdnVyoUU0M"
      },
      "source": [
        "#tornando em uma lista\n",
        "col_Bahia = ordenado_por_total_tratados.T[\"29 Bahia\"].tolist()"
      ],
      "execution_count": null,
      "outputs": []
    },
    {
      "cell_type": "code",
      "metadata": {
        "id": "dCrworVqUrXr"
      },
      "source": [
        "selecao_estados[\"29 Bahia\"] = col_Bahia\n",
        "selecao_estados.head(2)"
      ],
      "execution_count": null,
      "outputs": []
    },
    {
      "cell_type": "code",
      "metadata": {
        "id": "5gnoZtzy4aGU"
      },
      "source": [
        "############################# plotar o gráfico #################################\n",
        "\n",
        "ax = selecao_estados.plot(figsize=(10,6), lw=2.2, ls='-', \n",
        "                                        colormap=\"viridis\")\n",
        "\n",
        "########################### Estética do gráfico ################################\n",
        "\n",
        "ax.yaxis.set_major_formatter(ticker.StrMethodFormatter(\"{x:,.2f}\")) \n",
        "\n",
        "plt.legend(bbox_to_anchor=(1.05, 1), loc='upper left', borderaxespad=0.) #posiciona a legenda\n",
        "plt.title(\"Valor com Internações por Mês/Ano \\n Dados SUS\", fontsize = 16, \n",
        "          fontweight = \"bold\") # adiciona título\n",
        "\n",
        "ax.set_xlabel(\"Mês/Ano\",fontsize = 14, fontweight = \"bold\") #nomeia x\n",
        "ax.set_ylabel(\"Valor (Milhões R$)\",fontsize = 14, fontweight = \"bold\") #nomeia y\n",
        "\n",
        "ax.tick_params(axis=\"x\", labelsize=12) #modifica o número do tick em x\n",
        "ax.tick_params(axis=\"y\", labelsize=12) #modifica o número do tick em y\n",
        "\n",
        "\n",
        "ax.xaxis.grid(True, color='b', alpha=0.5, linestyle='dashed', linewidth=0.5) #grid em x\n",
        "ax.yaxis.grid(True, color='b', alpha=0.5, linestyle='dashed', linewidth=0.5)#grid em y"
      ],
      "execution_count": null,
      "outputs": []
    },
    {
      "cell_type": "markdown",
      "metadata": {
        "id": "N_QUjUPz-y_5"
      },
      "source": [
        "## DESAFIO 5 \n",
        "\n",
        "#### Buscar os casos de dengue no Brasil (época de maior número de casos e regiões mais atingidas) e se os picos de alguns estados em fevereiro e verão de modo geral, pode ser reflexos dos casos de dengue"
      ]
    },
    {
      "cell_type": "code",
      "metadata": {
        "id": "TTyJyXY0EoS3"
      },
      "source": [
        ""
      ],
      "execution_count": null,
      "outputs": []
    },
    {
      "cell_type": "markdown",
      "metadata": {
        "id": "FQpYVJygEoag"
      },
      "source": [
        "## DESAFIO 6 \n",
        "\n",
        "#### Plotar o gráfico dos custos apenas dos estados da região sudeste e verificar se os picos de 2013/Fev teve comportamento similar em todos os demais estados da região"
      ]
    },
    {
      "cell_type": "code",
      "metadata": {
        "id": "Qj2zYVAAE8jn"
      },
      "source": [
        ""
      ],
      "execution_count": null,
      "outputs": []
    },
    {
      "cell_type": "markdown",
      "metadata": {
        "id": "CLr8sZJeE9Im"
      },
      "source": [
        "## DESAFIO 7 \n",
        "\n",
        "#### Adicionar seu estado escolhido novamente, deixe o gráfico informativo e tire conclusões sobre seus estados comparando com os demais. Tire suas conclusões e compartilhe com a gente."
      ]
    },
    {
      "cell_type": "code",
      "metadata": {
        "id": "z7NQbXLRs4MB"
      },
      "source": [
        ""
      ],
      "execution_count": null,
      "outputs": []
    },
    {
      "cell_type": "markdown",
      "metadata": {
        "id": "6AVZN4K8stUc"
      },
      "source": [
        "---\n",
        "\n",
        "# AULA 4 - Análise de gráficos e criação de hipótese - ATENDIMENTO\n",
        "\n",
        "#### PÚBLICO ALVO\n",
        "####BATEU O OLHO NO GRÁFICO ENTENDEU\n",
        "####PASSAR A MENSAGEM CORRETA\n",
        "\n",
        "---"
      ]
    },
    {
      "cell_type": "code",
      "metadata": {
        "id": "-bk5lcGAqIZZ"
      },
      "source": [
        "ordenado_por_total_tratados.head(3).T.plot(figsize=(10,6))"
      ],
      "execution_count": null,
      "outputs": []
    },
    {
      "cell_type": "code",
      "metadata": {
        "id": "FMBi6riVv5ms"
      },
      "source": [
        "#filtrando as colunas de Jan/2012 a 2019\n",
        "'''que que o gráfico comece a partir de Jan/2012 e vá até 2019\n",
        "para fazer isto filtro as colunas ---- dado[dado.columns[início:fim]]'''\n",
        "ordenado_por_total_tratados[ordenado_por_total_tratados.columns[47:148]].head(3).T.plot(figsize=(10,6))\n",
        "\n",
        "'''se você não prestar atenção no eixo y você pode tirar conclusões falsas\n",
        "como dizer que São Paulo gastou 4 vezes mais que o gasto do Paraná porém se tivermos \n",
        "cuidado e setarmos o limite de y facilita a interpretação visual de uma pessoa\n",
        "não acostumada a visualizar gráficos, é muitooo importante você interpretar o gráfico\n",
        "mas é fundamental você pensar em como apresentar suas conclusões a quem não tem \n",
        "a familiaridade em entender gráfico.... Sempre pensar no público alvo'''"
      ],
      "execution_count": null,
      "outputs": []
    },
    {
      "cell_type": "code",
      "metadata": {
        "id": "yD50K7gOxHrL"
      },
      "source": [
        "ordenado_por_total_tratados[ordenado_por_total_tratados.columns[47:148]].head(3).T.plot(figsize=(10,6))\n",
        "plt.ylim(0,350) #setando limite no eixo y\n",
        "\n",
        "'''outra forma de setar o limite\n",
        "ax.set_ylim([0, 330.00])'''"
      ],
      "execution_count": null,
      "outputs": []
    },
    {
      "cell_type": "code",
      "metadata": {
        "id": "23wYHu0Ix9mW"
      },
      "source": [
        "#escolher os últimos 30 meses \n",
        "ordenado_por_total_tratados[ordenado_por_total_tratados.columns[-30:]].head(3).T.plot(figsize=(10,6))\n",
        "plt.ylim(0,350) #setando limite no eixo y\n"
      ],
      "execution_count": null,
      "outputs": []
    },
    {
      "cell_type": "code",
      "metadata": {
        "id": "yz6Q5SJY0v-r"
      },
      "source": [
        "ordenado_por_total_tratados.head(3).T.plot(figsize=(10,6))"
      ],
      "execution_count": null,
      "outputs": []
    },
    {
      "cell_type": "code",
      "metadata": {
        "id": "WDGIgFUQ2CGE"
      },
      "source": [
        "ordenado_por_total_tratados.head(3).T.plot(figsize=(6,6))\n",
        "'''observe que está última figura da uma sensação de crescimento muito mais rápida\n",
        "que a do gráfico anterior simplesmente trocando o tamnha da figura, as pessoas\n",
        "geralmente não se atentam ao eixo e o que olham é a figura e seu impacto.'''"
      ],
      "execution_count": null,
      "outputs": []
    },
    {
      "cell_type": "code",
      "metadata": {
        "id": "KaGhk_nR38q7"
      },
      "source": [
        "ordenado_por_total_tratados.head(3).T.plot(figsize=(18,6))"
      ],
      "execution_count": null,
      "outputs": []
    },
    {
      "cell_type": "markdown",
      "metadata": {
        "id": "i2mCrdZy3QD2"
      },
      "source": [
        "## DESAFIO 1 , 2\n",
        "\n",
        "####  1 - Refaça as manipulações feitas em aulas e gaste um tempo analisando os dados e entendendo os efeitos das manipulações\n",
        "\n",
        "####  2 - Reflita sobre os problemas na manipulação de dados e discuta esse assunto no Discord."
      ]
    },
    {
      "cell_type": "markdown",
      "metadata": {
        "id": "Wq-h8AJP3os2"
      },
      "source": [
        "# AULA 5 - Manipulação e interpretação de gráficos"
      ]
    },
    {
      "cell_type": "code",
      "metadata": {
        "id": "dru_LRv13x_G"
      },
      "source": [
        "# vamos observar o mês mais recente\n",
        "ordenado_por_total_tratados.columns[-1]"
      ],
      "execution_count": null,
      "outputs": []
    },
    {
      "cell_type": "code",
      "metadata": {
        "id": "RiL-dNxO4L7D"
      },
      "source": [
        "# vamos observar o mês mais recente\n",
        "mes_mais_recente = ordenado_por_total_tratados.columns[-1]\n",
        "gastos_do_mes_mais_recente = ordenado_por_total_tratados[mes_mais_recente]\n",
        "gastos_do_mes_mais_recente.head()"
      ],
      "execution_count": null,
      "outputs": []
    },
    {
      "cell_type": "code",
      "metadata": {
        "id": "v0a3ZCz2vTBX"
      },
      "source": [
        "gastos_do_mes_mais_recente.plot()"
      ],
      "execution_count": null,
      "outputs": []
    },
    {
      "cell_type": "code",
      "metadata": {
        "id": "3pavaF-S5sd2"
      },
      "source": [
        "gastos_do_mes_mais_recente.plot()"
      ],
      "execution_count": null,
      "outputs": []
    },
    {
      "cell_type": "code",
      "metadata": {
        "id": "yLM-IoKO6PEs"
      },
      "source": [
        "gastos_do_mes_mais_recente.plot(kind=\"pie\")"
      ],
      "execution_count": null,
      "outputs": []
    },
    {
      "cell_type": "markdown",
      "metadata": {
        "id": "HDvDoj3C6ior"
      },
      "source": [
        "Horrores do gráfico de pizza:\n",
        "\n",
        "- legenda está horrível\n",
        "- número de fatias inacreditável\n",
        "- se estiver ordenado é melhor mas desordenado é muitooooo difícil de visualizar, observe abaixo:"
      ]
    },
    {
      "cell_type": "code",
      "metadata": {
        "id": "Tz3LMO1z6QqQ"
      },
      "source": [
        "#vamos desordenar para ver como fica\n",
        "#vamos usar o shuffle .sample(frac = 1)\n",
        "gastos_do_mes_mais_recente.sample(frac = 1).plot(kind=\"pie\")"
      ],
      "execution_count": null,
      "outputs": []
    },
    {
      "cell_type": "markdown",
      "metadata": {
        "id": "bU41hLIt7iWP"
      },
      "source": [
        "Quem é o terceiro que mais gastou vendo o último gráfico???"
      ]
    },
    {
      "cell_type": "markdown",
      "metadata": {
        "id": "11H5GhAr71Q7"
      },
      "source": [
        "Horrores do gráfico de pizza:\n",
        "\n",
        "- legenda está horrível\n",
        "- número de fatias inacreditável\n",
        "- não dá para saber a ordem\n",
        "- cores repetidas\n",
        "- muito ruim para definir ordem\n",
        "- péssimo para comparar\n",
        "- "
      ]
    },
    {
      "cell_type": "code",
      "metadata": {
        "id": "KXmfAYWO7eH1"
      },
      "source": [
        "# visualização simples para valor absoluto podemos usar:\n",
        "\n",
        "gastos_do_mes_mais_recente"
      ],
      "execution_count": null,
      "outputs": []
    },
    {
      "cell_type": "code",
      "metadata": {
        "id": "dZs-eQsC8WBZ"
      },
      "source": [
        "# comparar o gasto de todos os estados com o Rio de Janeiro\n",
        "#observe o ERRO aqui, aqui estou chamando coluna e não linha, então ele esta fazendo\n",
        "#a divissão ERRADA dividindo pela coluna e não pela linha\n",
        "gastos_do_mes_mais_recente/gastos_do_mes_mais_recente[\"Rio de Janeiro\"]"
      ],
      "execution_count": null,
      "outputs": []
    },
    {
      "cell_type": "code",
      "metadata": {
        "id": "v4VyAFKs9OFl"
      },
      "source": [
        "#divisão pela linha usa o .loc\n",
        "gastos_do_mes_mais_recente/gastos_do_mes_mais_recente.loc[\"Rio de Janeiro\"]"
      ],
      "execution_count": null,
      "outputs": []
    },
    {
      "cell_type": "code",
      "metadata": {
        "id": "Dsyphk-D9woQ"
      },
      "source": [
        "(gastos_do_mes_mais_recente/gastos_do_mes_mais_recente.loc[\"Rio de Janeiro\"]).head()"
      ],
      "execution_count": null,
      "outputs": []
    },
    {
      "cell_type": "code",
      "metadata": {
        "id": "4zsZFvHd_chd"
      },
      "source": [
        "gastos_do_mes_mais_recente.plot(kind=\"bar\")\n",
        "'''observe que este gráfico não está ordenado, pois o que fizermos antes foi ordenar\n",
        "por total gasto em todos os anos e estamos plotando o gasto do mês mais recente\n",
        "e o gasto do mês mais recente não necessariamente é a mesma ordem do gasto total\n",
        "além disso, vale lembrar que os dados que estamos usando são os dados de \n",
        "ATENDIMENTO e não o de PROCESSAMENTO o gasto de atendimento pode acontecer que \n",
        "ter pacientes que atenderam este mês mas só seja processado e computado neste mês \n",
        "daqui a um tempo (meses ou anos) então o número de atendimente é alterável \n",
        "quando fechar o processamento'''"
      ],
      "execution_count": null,
      "outputs": []
    },
    {
      "cell_type": "code",
      "metadata": {
        "id": "VPLA2yxKBBo9"
      },
      "source": [
        "#ordenando os gastos do mês mais recente \n",
        "gastos_do_mes_mais_recente = gastos_do_mes_mais_recente.sort_values(ascending=False)\n",
        "gastos_do_mes_mais_recente.plot(kind=\"bar\", colormap=\"tab20\")"
      ],
      "execution_count": null,
      "outputs": []
    },
    {
      "cell_type": "markdown",
      "metadata": {
        "id": "ODtSXjle-ROM"
      },
      "source": [
        "## DESAFIO 1 \n",
        "\n",
        "#### Buscar na documentação do Matplotlib como colocar um grid nos gráficos e adicionar nos gráficos de barra.\n"
      ]
    },
    {
      "cell_type": "code",
      "metadata": {
        "id": "8-cYH1z2_Vc2"
      },
      "source": [
        ""
      ],
      "execution_count": null,
      "outputs": []
    },
    {
      "cell_type": "markdown",
      "metadata": {
        "id": "C-dGDowc_MYv"
      },
      "source": [
        "## DESAFIO 2\n",
        "\n",
        "#### Fazer um gráfico e uma tabela do gasto dos outros estados em função do seu estado, ou qualquer outro de interesse."
      ]
    },
    {
      "cell_type": "code",
      "metadata": {
        "id": "bhjlTiOW_UyT"
      },
      "source": [
        ""
      ],
      "execution_count": null,
      "outputs": []
    },
    {
      "cell_type": "markdown",
      "metadata": {
        "id": "RT6nxDUgFyvC"
      },
      "source": [
        "## DESAFIO 3\n",
        "\n",
        "#### Fazer o cálculo proporcional a população do seu estado e mais um a sua escolha."
      ]
    },
    {
      "cell_type": "code",
      "metadata": {
        "id": "tXk-tHbzFy1K"
      },
      "source": [
        ""
      ],
      "execution_count": null,
      "outputs": []
    },
    {
      "cell_type": "markdown",
      "metadata": {
        "id": "OM6ATDM8Fy7R"
      },
      "source": [
        "## DESAFIO 4\n",
        "\n",
        "#### Faça uma análise dos dados analisados, levante hipóteses e compartilhe com a gente no Discord."
      ]
    },
    {
      "cell_type": "code",
      "metadata": {
        "id": "dTIw3NuKFzBa"
      },
      "source": [
        ""
      ],
      "execution_count": null,
      "outputs": []
    },
    {
      "cell_type": "markdown",
      "metadata": {
        "id": "EBMyx8_gF-Bq"
      },
      "source": [
        "## DESAFIO 5\n",
        "\n",
        "#### Reproduza as análises feitas em aulas, refletindo e levantando hipóteses."
      ]
    },
    {
      "cell_type": "code",
      "metadata": {
        "id": "3JU14d9rF-IG"
      },
      "source": [
        ""
      ],
      "execution_count": null,
      "outputs": []
    },
    {
      "cell_type": "markdown",
      "metadata": {
        "id": "cIAugzhrF-Of"
      },
      "source": [
        ""
      ]
    },
    {
      "cell_type": "code",
      "metadata": {
        "id": "1H2p5M9kF-Vm"
      },
      "source": [
        ""
      ],
      "execution_count": null,
      "outputs": []
    },
    {
      "cell_type": "markdown",
      "metadata": {
        "id": "hPInbxg3GEtA"
      },
      "source": [
        "## SUPER DESAFIO\n",
        "\n",
        "#### Escolha outro valor fora o valor aprovado no TABNET e explore estes dados. Esse será nosso projeto do módulo, mais detalhes no Desafio do módulo 1 na página do bootcamp."
      ]
    },
    {
      "cell_type": "code",
      "metadata": {
        "id": "OtF967_JGp0J"
      },
      "source": [
        ""
      ],
      "execution_count": null,
      "outputs": []
    }
  ]
}